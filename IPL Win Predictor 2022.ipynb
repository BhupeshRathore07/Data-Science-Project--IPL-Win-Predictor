{
 "cells": [
  {
   "cell_type": "code",
   "execution_count": 1,
   "id": "06e4273c",
   "metadata": {},
   "outputs": [],
   "source": [
    "import pandas as pd\n",
    "import numpy as np\n",
    "import matplotlib as plt"
   ]
  },
  {
   "cell_type": "code",
   "execution_count": 26,
   "id": "7f209b9d",
   "metadata": {},
   "outputs": [],
   "source": [
    "match = pd.read_csv(\"IPL_Matches_2008_2022.csv\")\n",
    "delivery = pd.read_csv(\"IPL_Ball_by_Ball_2008_2022.csv\")"
   ]
  },
  {
   "cell_type": "code",
   "execution_count": 27,
   "id": "3e68d9ba",
   "metadata": {},
   "outputs": [
    {
     "data": {
      "text/html": [
       "<div>\n",
       "<style scoped>\n",
       "    .dataframe tbody tr th:only-of-type {\n",
       "        vertical-align: middle;\n",
       "    }\n",
       "\n",
       "    .dataframe tbody tr th {\n",
       "        vertical-align: top;\n",
       "    }\n",
       "\n",
       "    .dataframe thead th {\n",
       "        text-align: right;\n",
       "    }\n",
       "</style>\n",
       "<table border=\"1\" class=\"dataframe\">\n",
       "  <thead>\n",
       "    <tr style=\"text-align: right;\">\n",
       "      <th></th>\n",
       "      <th>ID</th>\n",
       "      <th>City</th>\n",
       "      <th>Date</th>\n",
       "      <th>Season</th>\n",
       "      <th>MatchNumber</th>\n",
       "      <th>Team1</th>\n",
       "      <th>Team2</th>\n",
       "      <th>Venue</th>\n",
       "      <th>TossWinner</th>\n",
       "      <th>TossDecision</th>\n",
       "      <th>SuperOver</th>\n",
       "      <th>WinningTeam</th>\n",
       "      <th>WonBy</th>\n",
       "      <th>Margin</th>\n",
       "      <th>method</th>\n",
       "      <th>Player_of_Match</th>\n",
       "      <th>Team1Players</th>\n",
       "      <th>Team2Players</th>\n",
       "      <th>Umpire1</th>\n",
       "      <th>Umpire2</th>\n",
       "    </tr>\n",
       "  </thead>\n",
       "  <tbody>\n",
       "    <tr>\n",
       "      <th>0</th>\n",
       "      <td>1312200</td>\n",
       "      <td>Ahmedabad</td>\n",
       "      <td>2022-05-29</td>\n",
       "      <td>2022</td>\n",
       "      <td>Final</td>\n",
       "      <td>Rajasthan Royals</td>\n",
       "      <td>Gujarat Titans</td>\n",
       "      <td>Narendra Modi Stadium, Ahmedabad</td>\n",
       "      <td>Rajasthan Royals</td>\n",
       "      <td>bat</td>\n",
       "      <td>N</td>\n",
       "      <td>Gujarat Titans</td>\n",
       "      <td>Wickets</td>\n",
       "      <td>7.0</td>\n",
       "      <td>NaN</td>\n",
       "      <td>HH Pandya</td>\n",
       "      <td>['YBK Jaiswal', 'JC Buttler', 'SV Samson', 'D ...</td>\n",
       "      <td>['WP Saha', 'Shubman Gill', 'MS Wade', 'HH Pan...</td>\n",
       "      <td>CB Gaffaney</td>\n",
       "      <td>Nitin Menon</td>\n",
       "    </tr>\n",
       "    <tr>\n",
       "      <th>1</th>\n",
       "      <td>1312199</td>\n",
       "      <td>Ahmedabad</td>\n",
       "      <td>2022-05-27</td>\n",
       "      <td>2022</td>\n",
       "      <td>Qualifier 2</td>\n",
       "      <td>Royal Challengers Bangalore</td>\n",
       "      <td>Rajasthan Royals</td>\n",
       "      <td>Narendra Modi Stadium, Ahmedabad</td>\n",
       "      <td>Rajasthan Royals</td>\n",
       "      <td>field</td>\n",
       "      <td>N</td>\n",
       "      <td>Rajasthan Royals</td>\n",
       "      <td>Wickets</td>\n",
       "      <td>7.0</td>\n",
       "      <td>NaN</td>\n",
       "      <td>JC Buttler</td>\n",
       "      <td>['V Kohli', 'F du Plessis', 'RM Patidar', 'GJ ...</td>\n",
       "      <td>['YBK Jaiswal', 'JC Buttler', 'SV Samson', 'D ...</td>\n",
       "      <td>CB Gaffaney</td>\n",
       "      <td>Nitin Menon</td>\n",
       "    </tr>\n",
       "    <tr>\n",
       "      <th>2</th>\n",
       "      <td>1312198</td>\n",
       "      <td>Kolkata</td>\n",
       "      <td>2022-05-25</td>\n",
       "      <td>2022</td>\n",
       "      <td>Eliminator</td>\n",
       "      <td>Royal Challengers Bangalore</td>\n",
       "      <td>Lucknow Super Giants</td>\n",
       "      <td>Eden Gardens, Kolkata</td>\n",
       "      <td>Lucknow Super Giants</td>\n",
       "      <td>field</td>\n",
       "      <td>N</td>\n",
       "      <td>Royal Challengers Bangalore</td>\n",
       "      <td>Runs</td>\n",
       "      <td>14.0</td>\n",
       "      <td>NaN</td>\n",
       "      <td>RM Patidar</td>\n",
       "      <td>['V Kohli', 'F du Plessis', 'RM Patidar', 'GJ ...</td>\n",
       "      <td>['Q de Kock', 'KL Rahul', 'M Vohra', 'DJ Hooda...</td>\n",
       "      <td>J Madanagopal</td>\n",
       "      <td>MA Gough</td>\n",
       "    </tr>\n",
       "    <tr>\n",
       "      <th>3</th>\n",
       "      <td>1312197</td>\n",
       "      <td>Kolkata</td>\n",
       "      <td>2022-05-24</td>\n",
       "      <td>2022</td>\n",
       "      <td>Qualifier 1</td>\n",
       "      <td>Rajasthan Royals</td>\n",
       "      <td>Gujarat Titans</td>\n",
       "      <td>Eden Gardens, Kolkata</td>\n",
       "      <td>Gujarat Titans</td>\n",
       "      <td>field</td>\n",
       "      <td>N</td>\n",
       "      <td>Gujarat Titans</td>\n",
       "      <td>Wickets</td>\n",
       "      <td>7.0</td>\n",
       "      <td>NaN</td>\n",
       "      <td>DA Miller</td>\n",
       "      <td>['YBK Jaiswal', 'JC Buttler', 'SV Samson', 'D ...</td>\n",
       "      <td>['WP Saha', 'Shubman Gill', 'MS Wade', 'HH Pan...</td>\n",
       "      <td>BNJ Oxenford</td>\n",
       "      <td>VK Sharma</td>\n",
       "    </tr>\n",
       "    <tr>\n",
       "      <th>4</th>\n",
       "      <td>1304116</td>\n",
       "      <td>Mumbai</td>\n",
       "      <td>2022-05-22</td>\n",
       "      <td>2022</td>\n",
       "      <td>70</td>\n",
       "      <td>Sunrisers Hyderabad</td>\n",
       "      <td>Punjab Kings</td>\n",
       "      <td>Wankhede Stadium, Mumbai</td>\n",
       "      <td>Sunrisers Hyderabad</td>\n",
       "      <td>bat</td>\n",
       "      <td>N</td>\n",
       "      <td>Punjab Kings</td>\n",
       "      <td>Wickets</td>\n",
       "      <td>5.0</td>\n",
       "      <td>NaN</td>\n",
       "      <td>Harpreet Brar</td>\n",
       "      <td>['PK Garg', 'Abhishek Sharma', 'RA Tripathi', ...</td>\n",
       "      <td>['JM Bairstow', 'S Dhawan', 'M Shahrukh Khan',...</td>\n",
       "      <td>AK Chaudhary</td>\n",
       "      <td>NA Patwardhan</td>\n",
       "    </tr>\n",
       "  </tbody>\n",
       "</table>\n",
       "</div>"
      ],
      "text/plain": [
       "        ID       City        Date Season  MatchNumber  \\\n",
       "0  1312200  Ahmedabad  2022-05-29   2022        Final   \n",
       "1  1312199  Ahmedabad  2022-05-27   2022  Qualifier 2   \n",
       "2  1312198    Kolkata  2022-05-25   2022   Eliminator   \n",
       "3  1312197    Kolkata  2022-05-24   2022  Qualifier 1   \n",
       "4  1304116     Mumbai  2022-05-22   2022           70   \n",
       "\n",
       "                         Team1                 Team2  \\\n",
       "0             Rajasthan Royals        Gujarat Titans   \n",
       "1  Royal Challengers Bangalore      Rajasthan Royals   \n",
       "2  Royal Challengers Bangalore  Lucknow Super Giants   \n",
       "3             Rajasthan Royals        Gujarat Titans   \n",
       "4          Sunrisers Hyderabad          Punjab Kings   \n",
       "\n",
       "                              Venue            TossWinner TossDecision  \\\n",
       "0  Narendra Modi Stadium, Ahmedabad      Rajasthan Royals          bat   \n",
       "1  Narendra Modi Stadium, Ahmedabad      Rajasthan Royals        field   \n",
       "2             Eden Gardens, Kolkata  Lucknow Super Giants        field   \n",
       "3             Eden Gardens, Kolkata        Gujarat Titans        field   \n",
       "4          Wankhede Stadium, Mumbai   Sunrisers Hyderabad          bat   \n",
       "\n",
       "  SuperOver                  WinningTeam    WonBy  Margin method  \\\n",
       "0         N               Gujarat Titans  Wickets     7.0    NaN   \n",
       "1         N             Rajasthan Royals  Wickets     7.0    NaN   \n",
       "2         N  Royal Challengers Bangalore     Runs    14.0    NaN   \n",
       "3         N               Gujarat Titans  Wickets     7.0    NaN   \n",
       "4         N                 Punjab Kings  Wickets     5.0    NaN   \n",
       "\n",
       "  Player_of_Match                                       Team1Players  \\\n",
       "0       HH Pandya  ['YBK Jaiswal', 'JC Buttler', 'SV Samson', 'D ...   \n",
       "1      JC Buttler  ['V Kohli', 'F du Plessis', 'RM Patidar', 'GJ ...   \n",
       "2      RM Patidar  ['V Kohli', 'F du Plessis', 'RM Patidar', 'GJ ...   \n",
       "3       DA Miller  ['YBK Jaiswal', 'JC Buttler', 'SV Samson', 'D ...   \n",
       "4   Harpreet Brar  ['PK Garg', 'Abhishek Sharma', 'RA Tripathi', ...   \n",
       "\n",
       "                                        Team2Players        Umpire1  \\\n",
       "0  ['WP Saha', 'Shubman Gill', 'MS Wade', 'HH Pan...    CB Gaffaney   \n",
       "1  ['YBK Jaiswal', 'JC Buttler', 'SV Samson', 'D ...    CB Gaffaney   \n",
       "2  ['Q de Kock', 'KL Rahul', 'M Vohra', 'DJ Hooda...  J Madanagopal   \n",
       "3  ['WP Saha', 'Shubman Gill', 'MS Wade', 'HH Pan...   BNJ Oxenford   \n",
       "4  ['JM Bairstow', 'S Dhawan', 'M Shahrukh Khan',...   AK Chaudhary   \n",
       "\n",
       "         Umpire2  \n",
       "0    Nitin Menon  \n",
       "1    Nitin Menon  \n",
       "2       MA Gough  \n",
       "3      VK Sharma  \n",
       "4  NA Patwardhan  "
      ]
     },
     "execution_count": 27,
     "metadata": {},
     "output_type": "execute_result"
    }
   ],
   "source": [
    "match.head()"
   ]
  },
  {
   "cell_type": "code",
   "execution_count": 35,
   "id": "806426b7",
   "metadata": {},
   "outputs": [
    {
     "data": {
      "text/plain": [
       "array(['Rajasthan Royals', 'Royal Challengers Bangalore',\n",
       "       'Sunrisers Hyderabad', 'Delhi Capitals', 'Chennai Super Kings',\n",
       "       'Gujarat Titans', 'Lucknow Super Giants', 'Kolkata Knight Riders',\n",
       "       'Punjab Kings', 'Mumbai Indians', 'Kings XI Punjab',\n",
       "       'Delhi Daredevils', 'Rising Pune Supergiant', 'Gujarat Lions',\n",
       "       'Rising Pune Supergiants', 'Pune Warriors', 'Deccan Chargers',\n",
       "       'Kochi Tuskers Kerala'], dtype=object)"
      ]
     },
     "execution_count": 35,
     "metadata": {},
     "output_type": "execute_result"
    }
   ],
   "source": [
    "match['Team1'].unique()"
   ]
  },
  {
   "cell_type": "code",
   "execution_count": 36,
   "id": "a0a8cf01",
   "metadata": {},
   "outputs": [
    {
     "data": {
      "text/plain": [
       "array(['Gujarat Titans', 'Rajasthan Royals', 'Lucknow Super Giants',\n",
       "       'Punjab Kings', 'Mumbai Indians', 'Royal Challengers Bangalore',\n",
       "       'Kolkata Knight Riders', 'Sunrisers Hyderabad', 'Delhi Capitals',\n",
       "       'Chennai Super Kings', 'Kings XI Punjab', 'Delhi Daredevils',\n",
       "       'Rising Pune Supergiant', 'Gujarat Lions',\n",
       "       'Rising Pune Supergiants', 'Pune Warriors', 'Deccan Chargers',\n",
       "       'Kochi Tuskers Kerala'], dtype=object)"
      ]
     },
     "execution_count": 36,
     "metadata": {},
     "output_type": "execute_result"
    }
   ],
   "source": [
    "match['Team2'].unique()"
   ]
  },
  {
   "cell_type": "code",
   "execution_count": 37,
   "id": "6728dd9c",
   "metadata": {},
   "outputs": [
    {
     "data": {
      "text/plain": [
       "array(['Rajasthan Royals', 'Lucknow Super Giants', 'Gujarat Titans',\n",
       "       'Sunrisers Hyderabad', 'Mumbai Indians', 'Chennai Super Kings',\n",
       "       'Punjab Kings', 'Kolkata Knight Riders',\n",
       "       'Royal Challengers Bangalore', 'Delhi Capitals', 'Kings XI Punjab',\n",
       "       'Delhi Daredevils', 'Rising Pune Supergiant', 'Gujarat Lions',\n",
       "       'Rising Pune Supergiants', 'Pune Warriors', 'Deccan Chargers',\n",
       "       'Kochi Tuskers Kerala'], dtype=object)"
      ]
     },
     "execution_count": 37,
     "metadata": {},
     "output_type": "execute_result"
    }
   ],
   "source": [
    "match['TossWinner'].unique()"
   ]
  },
  {
   "cell_type": "code",
   "execution_count": 38,
   "id": "fdfad0e9",
   "metadata": {},
   "outputs": [
    {
     "data": {
      "text/plain": [
       "array(['Gujarat Titans', 'Rajasthan Royals',\n",
       "       'Royal Challengers Bangalore', 'Punjab Kings', 'Mumbai Indians',\n",
       "       'Lucknow Super Giants', 'Sunrisers Hyderabad', 'Delhi Capitals',\n",
       "       'Kolkata Knight Riders', 'Chennai Super Kings', 'Kings XI Punjab',\n",
       "       nan, 'Delhi Daredevils', 'Rising Pune Supergiant', 'Gujarat Lions',\n",
       "       'Rising Pune Supergiants', 'Pune Warriors', 'Deccan Chargers',\n",
       "       'Kochi Tuskers Kerala'], dtype=object)"
      ]
     },
     "execution_count": 38,
     "metadata": {},
     "output_type": "execute_result"
    }
   ],
   "source": [
    "match['WinningTeam'].unique()"
   ]
  },
  {
   "cell_type": "code",
   "execution_count": 39,
   "id": "6d618e1a",
   "metadata": {},
   "outputs": [],
   "source": [
    "match = match.replace('Delhi Daredevils','Delhi Capitals')\n",
    "\n",
    "match = match.replace('Rising Pune Supergiant','Lucknow Super Giants')\n",
    "match = match.replace('Rising Pune Supergiants','Lucknow Super Giants')\n",
    "match = match.replace('Kochi Tuskers Kerala','Lucknow Super Giants')\n",
    "\n",
    "match = match.replace('Pune Warriors','Gujarat Titans')\n",
    "match = match.replace('Gujarat Lions','Gujarat Titans')\n",
    "\n",
    "match = match.replace('Kings XI Punjab','Punjab Kings')\n",
    "\n",
    "match = match.replace('Deccan Chargers','Sunrisers Hyderabad')\n",
    "match = match.replace('Gujarat Lions','Gujarat Titans')"
   ]
  },
  {
   "cell_type": "markdown",
   "id": "366e4cc1",
   "metadata": {},
   "source": [
    "---"
   ]
  },
  {
   "cell_type": "code",
   "execution_count": 49,
   "id": "d013a206",
   "metadata": {},
   "outputs": [
    {
     "data": {
      "text/plain": [
       "array(['Ahmedabad', 'Kolkata', 'Mumbai', 'Ahemdabad', 'Dubai', 'Sharjah',\n",
       "       'Abu Dhabi', 'Delhi', 'Chennai', nan, 'Hyderabad', 'Bengaluru',\n",
       "       'Chandigarh', 'Jaipur', 'Lucknow', 'Johannesburg', 'Centurion',\n",
       "       'Durban', 'Bloemfontein', 'Port Elizabeth', 'Kimberley',\n",
       "       'East London', 'Cape Town'], dtype=object)"
      ]
     },
     "execution_count": 49,
     "metadata": {},
     "output_type": "execute_result"
    }
   ],
   "source": [
    "match['City'].unique()"
   ]
  },
  {
   "cell_type": "code",
   "execution_count": 34,
   "id": "5414ee76",
   "metadata": {},
   "outputs": [],
   "source": [
    "match = match.replace('Bangalore','Bengaluru')\n",
    "match = match.replace('Visakhapatnam','Bengaluru')\n",
    "\n",
    "\n",
    "match = match.replace('Indore','Lucknow')\n",
    "match = match.replace('Kochi','Lucknow')\n",
    "match = match.replace('Kanpur','Lucknow')\n",
    "match = match.replace('Nagpur','Lucknow')\n",
    "\n",
    "\n",
    "match = match.replace('Pune','Ahemdabad')\n",
    "match = match.replace('Rajkot','Ahemdabad')\n",
    "\n",
    "\n",
    "match = match.replace('Cuttack','Chennai')\n",
    "match = match.replace('Ranchi','Chennai')\n",
    "match = match.replace('Raipur','Chennai')\n",
    "\n",
    "\n",
    "match = match.replace('Dharamsala','Chandigarh')\n",
    "\n",
    "match = match.replace('Navi Mumbai','Mumbai')"
   ]
  },
  {
   "cell_type": "code",
   "execution_count": null,
   "id": "e0dce0e4",
   "metadata": {},
   "outputs": [],
   "source": [
    "match['City'].unique()"
   ]
  },
  {
   "cell_type": "code",
   "execution_count": null,
   "id": "fd6329d1",
   "metadata": {},
   "outputs": [],
   "source": []
  },
  {
   "cell_type": "code",
   "execution_count": null,
   "id": "8905727e",
   "metadata": {},
   "outputs": [],
   "source": []
  },
  {
   "cell_type": "code",
   "execution_count": null,
   "id": "a1b47749",
   "metadata": {},
   "outputs": [],
   "source": []
  },
  {
   "cell_type": "code",
   "execution_count": null,
   "id": "5267e025",
   "metadata": {},
   "outputs": [],
   "source": []
  },
  {
   "cell_type": "code",
   "execution_count": null,
   "id": "35a5f638",
   "metadata": {},
   "outputs": [],
   "source": []
  },
  {
   "cell_type": "code",
   "execution_count": null,
   "id": "4bc5ed18",
   "metadata": {},
   "outputs": [],
   "source": []
  },
  {
   "cell_type": "code",
   "execution_count": 60,
   "id": "817a6fdb",
   "metadata": {
    "scrolled": true
   },
   "outputs": [
    {
     "data": {
      "text/html": [
       "<div>\n",
       "<style scoped>\n",
       "    .dataframe tbody tr th:only-of-type {\n",
       "        vertical-align: middle;\n",
       "    }\n",
       "\n",
       "    .dataframe tbody tr th {\n",
       "        vertical-align: top;\n",
       "    }\n",
       "\n",
       "    .dataframe thead th {\n",
       "        text-align: right;\n",
       "    }\n",
       "</style>\n",
       "<table border=\"1\" class=\"dataframe\">\n",
       "  <thead>\n",
       "    <tr style=\"text-align: right;\">\n",
       "      <th></th>\n",
       "      <th>ID</th>\n",
       "      <th>innings</th>\n",
       "      <th>overs</th>\n",
       "      <th>ballnumber</th>\n",
       "      <th>batter</th>\n",
       "      <th>bowler</th>\n",
       "      <th>non-striker</th>\n",
       "      <th>extra_type</th>\n",
       "      <th>batsman_run</th>\n",
       "      <th>extras_run</th>\n",
       "      <th>total_run</th>\n",
       "      <th>non_boundary</th>\n",
       "      <th>isWicketDelivery</th>\n",
       "      <th>player_out</th>\n",
       "      <th>kind</th>\n",
       "      <th>fielders_involved</th>\n",
       "      <th>BattingTeam</th>\n",
       "    </tr>\n",
       "  </thead>\n",
       "  <tbody>\n",
       "    <tr>\n",
       "      <th>0</th>\n",
       "      <td>1312200</td>\n",
       "      <td>1</td>\n",
       "      <td>0</td>\n",
       "      <td>1</td>\n",
       "      <td>YBK Jaiswal</td>\n",
       "      <td>Mohammed Shami</td>\n",
       "      <td>JC Buttler</td>\n",
       "      <td>NaN</td>\n",
       "      <td>0</td>\n",
       "      <td>0</td>\n",
       "      <td>0</td>\n",
       "      <td>0</td>\n",
       "      <td>0</td>\n",
       "      <td>NaN</td>\n",
       "      <td>NaN</td>\n",
       "      <td>NaN</td>\n",
       "      <td>Rajasthan Royals</td>\n",
       "    </tr>\n",
       "    <tr>\n",
       "      <th>1</th>\n",
       "      <td>1312200</td>\n",
       "      <td>1</td>\n",
       "      <td>0</td>\n",
       "      <td>2</td>\n",
       "      <td>YBK Jaiswal</td>\n",
       "      <td>Mohammed Shami</td>\n",
       "      <td>JC Buttler</td>\n",
       "      <td>legbyes</td>\n",
       "      <td>0</td>\n",
       "      <td>1</td>\n",
       "      <td>1</td>\n",
       "      <td>0</td>\n",
       "      <td>0</td>\n",
       "      <td>NaN</td>\n",
       "      <td>NaN</td>\n",
       "      <td>NaN</td>\n",
       "      <td>Rajasthan Royals</td>\n",
       "    </tr>\n",
       "    <tr>\n",
       "      <th>2</th>\n",
       "      <td>1312200</td>\n",
       "      <td>1</td>\n",
       "      <td>0</td>\n",
       "      <td>3</td>\n",
       "      <td>JC Buttler</td>\n",
       "      <td>Mohammed Shami</td>\n",
       "      <td>YBK Jaiswal</td>\n",
       "      <td>NaN</td>\n",
       "      <td>1</td>\n",
       "      <td>0</td>\n",
       "      <td>1</td>\n",
       "      <td>0</td>\n",
       "      <td>0</td>\n",
       "      <td>NaN</td>\n",
       "      <td>NaN</td>\n",
       "      <td>NaN</td>\n",
       "      <td>Rajasthan Royals</td>\n",
       "    </tr>\n",
       "    <tr>\n",
       "      <th>3</th>\n",
       "      <td>1312200</td>\n",
       "      <td>1</td>\n",
       "      <td>0</td>\n",
       "      <td>4</td>\n",
       "      <td>YBK Jaiswal</td>\n",
       "      <td>Mohammed Shami</td>\n",
       "      <td>JC Buttler</td>\n",
       "      <td>NaN</td>\n",
       "      <td>0</td>\n",
       "      <td>0</td>\n",
       "      <td>0</td>\n",
       "      <td>0</td>\n",
       "      <td>0</td>\n",
       "      <td>NaN</td>\n",
       "      <td>NaN</td>\n",
       "      <td>NaN</td>\n",
       "      <td>Rajasthan Royals</td>\n",
       "    </tr>\n",
       "    <tr>\n",
       "      <th>4</th>\n",
       "      <td>1312200</td>\n",
       "      <td>1</td>\n",
       "      <td>0</td>\n",
       "      <td>5</td>\n",
       "      <td>YBK Jaiswal</td>\n",
       "      <td>Mohammed Shami</td>\n",
       "      <td>JC Buttler</td>\n",
       "      <td>NaN</td>\n",
       "      <td>0</td>\n",
       "      <td>0</td>\n",
       "      <td>0</td>\n",
       "      <td>0</td>\n",
       "      <td>0</td>\n",
       "      <td>NaN</td>\n",
       "      <td>NaN</td>\n",
       "      <td>NaN</td>\n",
       "      <td>Rajasthan Royals</td>\n",
       "    </tr>\n",
       "  </tbody>\n",
       "</table>\n",
       "</div>"
      ],
      "text/plain": [
       "        ID  innings  overs  ballnumber       batter          bowler  \\\n",
       "0  1312200        1      0           1  YBK Jaiswal  Mohammed Shami   \n",
       "1  1312200        1      0           2  YBK Jaiswal  Mohammed Shami   \n",
       "2  1312200        1      0           3   JC Buttler  Mohammed Shami   \n",
       "3  1312200        1      0           4  YBK Jaiswal  Mohammed Shami   \n",
       "4  1312200        1      0           5  YBK Jaiswal  Mohammed Shami   \n",
       "\n",
       "   non-striker extra_type  batsman_run  extras_run  total_run  non_boundary  \\\n",
       "0   JC Buttler        NaN            0           0          0             0   \n",
       "1   JC Buttler    legbyes            0           1          1             0   \n",
       "2  YBK Jaiswal        NaN            1           0          1             0   \n",
       "3   JC Buttler        NaN            0           0          0             0   \n",
       "4   JC Buttler        NaN            0           0          0             0   \n",
       "\n",
       "   isWicketDelivery player_out kind fielders_involved       BattingTeam  \n",
       "0                 0        NaN  NaN               NaN  Rajasthan Royals  \n",
       "1                 0        NaN  NaN               NaN  Rajasthan Royals  \n",
       "2                 0        NaN  NaN               NaN  Rajasthan Royals  \n",
       "3                 0        NaN  NaN               NaN  Rajasthan Royals  \n",
       "4                 0        NaN  NaN               NaN  Rajasthan Royals  "
      ]
     },
     "execution_count": 60,
     "metadata": {},
     "output_type": "execute_result"
    }
   ],
   "source": [
    "delivery.head()"
   ]
  },
  {
   "cell_type": "code",
   "execution_count": 50,
   "id": "22eaa806",
   "metadata": {},
   "outputs": [
    {
     "data": {
      "text/plain": [
       "array(['Rajasthan Royals', 'Gujarat Titans',\n",
       "       'Royal Challengers Bangalore', 'Lucknow Super Giants',\n",
       "       'Sunrisers Hyderabad', 'Punjab Kings', 'Delhi Capitals',\n",
       "       'Mumbai Indians', 'Chennai Super Kings', 'Kolkata Knight Riders',\n",
       "       'Kings XI Punjab', 'Delhi Daredevils', 'Rising Pune Supergiant',\n",
       "       'Gujarat Lions', 'Rising Pune Supergiants', 'Pune Warriors',\n",
       "       'Deccan Chargers', 'Kochi Tuskers Kerala'], dtype=object)"
      ]
     },
     "execution_count": 50,
     "metadata": {},
     "output_type": "execute_result"
    }
   ],
   "source": [
    "delivery['BattingTeam'].unique()"
   ]
  },
  {
   "cell_type": "code",
   "execution_count": 51,
   "id": "75ba1eca",
   "metadata": {},
   "outputs": [],
   "source": [
    "delivery = delivery.replace('Delhi Daredevils','Delhi Capitals')\n",
    "\n",
    "delivery = delivery.replace('Rising Pune Supergiant','Lucknow Super Giants')\n",
    "delivery = delivery.replace('Rising Pune Supergiants','Lucknow Super Giants')\n",
    "delivery = delivery.replace('Kochi Tuskers Kerala','Lucknow Super Giants')\n",
    "\n",
    "delivery = delivery.replace('Pune Warriors','Gujarat Titans')\n",
    "delivery = delivery.replace('Gujarat Lions','Gujarat Titans')\n",
    "\n",
    "delivery = delivery.replace('Kings XI Punjab','Punjab Kings')\n",
    "\n",
    "delivery = delivery.replace('Deccan Chargers','Sunrisers Hyderabad')\n",
    "delivery = delivery.replace('Gujarat Lions','Gujarat Titans')\n"
   ]
  },
  {
   "cell_type": "code",
   "execution_count": 54,
   "id": "ca00cf0d",
   "metadata": {},
   "outputs": [
    {
     "data": {
      "text/plain": [
       "array(['Rajasthan Royals', 'Gujarat Titans',\n",
       "       'Royal Challengers Bangalore', 'Lucknow Super Giants',\n",
       "       'Sunrisers Hyderabad', 'Punjab Kings', 'Delhi Capitals',\n",
       "       'Mumbai Indians', 'Chennai Super Kings', 'Kolkata Knight Riders'],\n",
       "      dtype=object)"
      ]
     },
     "execution_count": 54,
     "metadata": {},
     "output_type": "execute_result"
    }
   ],
   "source": [
    "delivery['BattingTeam'].unique()"
   ]
  },
  {
   "cell_type": "code",
   "execution_count": null,
   "id": "1097c8e8",
   "metadata": {},
   "outputs": [],
   "source": []
  },
  {
   "cell_type": "code",
   "execution_count": null,
   "id": "21568feb",
   "metadata": {},
   "outputs": [],
   "source": []
  },
  {
   "cell_type": "code",
   "execution_count": null,
   "id": "e1ed97b9",
   "metadata": {},
   "outputs": [],
   "source": []
  },
  {
   "cell_type": "code",
   "execution_count": 55,
   "id": "0d75d2fc",
   "metadata": {},
   "outputs": [
    {
     "data": {
      "text/plain": [
       "(950, 20)"
      ]
     },
     "execution_count": 55,
     "metadata": {},
     "output_type": "execute_result"
    }
   ],
   "source": [
    "match.shape"
   ]
  },
  {
   "cell_type": "code",
   "execution_count": 56,
   "id": "797f7db8",
   "metadata": {},
   "outputs": [
    {
     "data": {
      "text/plain": [
       "(225954, 17)"
      ]
     },
     "execution_count": 56,
     "metadata": {},
     "output_type": "execute_result"
    }
   ],
   "source": [
    "delivery.shape"
   ]
  },
  {
   "cell_type": "code",
   "execution_count": 57,
   "id": "e0841b5e",
   "metadata": {},
   "outputs": [],
   "source": [
    "totalScoreDF = delivery.groupby(['ID', 'innings']).sum()['total_run'].reset_index()"
   ]
  },
  {
   "cell_type": "code",
   "execution_count": 58,
   "id": "73fe0c51",
   "metadata": {},
   "outputs": [
    {
     "data": {
      "text/html": [
       "<div>\n",
       "<style scoped>\n",
       "    .dataframe tbody tr th:only-of-type {\n",
       "        vertical-align: middle;\n",
       "    }\n",
       "\n",
       "    .dataframe tbody tr th {\n",
       "        vertical-align: top;\n",
       "    }\n",
       "\n",
       "    .dataframe thead th {\n",
       "        text-align: right;\n",
       "    }\n",
       "</style>\n",
       "<table border=\"1\" class=\"dataframe\">\n",
       "  <thead>\n",
       "    <tr style=\"text-align: right;\">\n",
       "      <th></th>\n",
       "      <th>ID</th>\n",
       "      <th>innings</th>\n",
       "      <th>total_run</th>\n",
       "    </tr>\n",
       "  </thead>\n",
       "  <tbody>\n",
       "    <tr>\n",
       "      <th>0</th>\n",
       "      <td>335982</td>\n",
       "      <td>1</td>\n",
       "      <td>222</td>\n",
       "    </tr>\n",
       "    <tr>\n",
       "      <th>1</th>\n",
       "      <td>335982</td>\n",
       "      <td>2</td>\n",
       "      <td>82</td>\n",
       "    </tr>\n",
       "    <tr>\n",
       "      <th>2</th>\n",
       "      <td>335983</td>\n",
       "      <td>1</td>\n",
       "      <td>240</td>\n",
       "    </tr>\n",
       "    <tr>\n",
       "      <th>3</th>\n",
       "      <td>335983</td>\n",
       "      <td>2</td>\n",
       "      <td>207</td>\n",
       "    </tr>\n",
       "    <tr>\n",
       "      <th>4</th>\n",
       "      <td>335984</td>\n",
       "      <td>1</td>\n",
       "      <td>129</td>\n",
       "    </tr>\n",
       "    <tr>\n",
       "      <th>...</th>\n",
       "      <td>...</td>\n",
       "      <td>...</td>\n",
       "      <td>...</td>\n",
       "    </tr>\n",
       "    <tr>\n",
       "      <th>1923</th>\n",
       "      <td>1312198</td>\n",
       "      <td>2</td>\n",
       "      <td>193</td>\n",
       "    </tr>\n",
       "    <tr>\n",
       "      <th>1924</th>\n",
       "      <td>1312199</td>\n",
       "      <td>1</td>\n",
       "      <td>157</td>\n",
       "    </tr>\n",
       "    <tr>\n",
       "      <th>1925</th>\n",
       "      <td>1312199</td>\n",
       "      <td>2</td>\n",
       "      <td>161</td>\n",
       "    </tr>\n",
       "    <tr>\n",
       "      <th>1926</th>\n",
       "      <td>1312200</td>\n",
       "      <td>1</td>\n",
       "      <td>130</td>\n",
       "    </tr>\n",
       "    <tr>\n",
       "      <th>1927</th>\n",
       "      <td>1312200</td>\n",
       "      <td>2</td>\n",
       "      <td>133</td>\n",
       "    </tr>\n",
       "  </tbody>\n",
       "</table>\n",
       "<p>1928 rows × 3 columns</p>\n",
       "</div>"
      ],
      "text/plain": [
       "           ID  innings  total_run\n",
       "0      335982        1        222\n",
       "1      335982        2         82\n",
       "2      335983        1        240\n",
       "3      335983        2        207\n",
       "4      335984        1        129\n",
       "...       ...      ...        ...\n",
       "1923  1312198        2        193\n",
       "1924  1312199        1        157\n",
       "1925  1312199        2        161\n",
       "1926  1312200        1        130\n",
       "1927  1312200        2        133\n",
       "\n",
       "[1928 rows x 3 columns]"
      ]
     },
     "execution_count": 58,
     "metadata": {},
     "output_type": "execute_result"
    }
   ],
   "source": [
    "totalScoreDF"
   ]
  },
  {
   "cell_type": "code",
   "execution_count": 61,
   "id": "be33f9c9",
   "metadata": {},
   "outputs": [],
   "source": [
    "totalScoreDF = totalScoreDF[totalScoreDF[\"innings\"] == 1]"
   ]
  },
  {
   "cell_type": "code",
   "execution_count": 62,
   "id": "55560a06",
   "metadata": {},
   "outputs": [],
   "source": [
    "matchDF = match.merge(totalScoreDF[['ID', 'total_run']], left_on = 'ID',right_on = 'ID')"
   ]
  },
  {
   "cell_type": "code",
   "execution_count": 63,
   "id": "b99820b3",
   "metadata": {},
   "outputs": [
    {
     "data": {
      "text/plain": [
       "(950, 21)"
      ]
     },
     "execution_count": 63,
     "metadata": {},
     "output_type": "execute_result"
    }
   ],
   "source": [
    "matchDF.shape"
   ]
  },
  {
   "cell_type": "code",
   "execution_count": 64,
   "id": "0d87cb23",
   "metadata": {},
   "outputs": [
    {
     "data": {
      "text/html": [
       "<div>\n",
       "<style scoped>\n",
       "    .dataframe tbody tr th:only-of-type {\n",
       "        vertical-align: middle;\n",
       "    }\n",
       "\n",
       "    .dataframe tbody tr th {\n",
       "        vertical-align: top;\n",
       "    }\n",
       "\n",
       "    .dataframe thead th {\n",
       "        text-align: right;\n",
       "    }\n",
       "</style>\n",
       "<table border=\"1\" class=\"dataframe\">\n",
       "  <thead>\n",
       "    <tr style=\"text-align: right;\">\n",
       "      <th></th>\n",
       "      <th>ID</th>\n",
       "      <th>City</th>\n",
       "      <th>Date</th>\n",
       "      <th>Season</th>\n",
       "      <th>MatchNumber</th>\n",
       "      <th>Team1</th>\n",
       "      <th>Team2</th>\n",
       "      <th>Venue</th>\n",
       "      <th>TossWinner</th>\n",
       "      <th>TossDecision</th>\n",
       "      <th>...</th>\n",
       "      <th>WinningTeam</th>\n",
       "      <th>WonBy</th>\n",
       "      <th>Margin</th>\n",
       "      <th>method</th>\n",
       "      <th>Player_of_Match</th>\n",
       "      <th>Team1Players</th>\n",
       "      <th>Team2Players</th>\n",
       "      <th>Umpire1</th>\n",
       "      <th>Umpire2</th>\n",
       "      <th>total_run</th>\n",
       "    </tr>\n",
       "  </thead>\n",
       "  <tbody>\n",
       "    <tr>\n",
       "      <th>0</th>\n",
       "      <td>1312200</td>\n",
       "      <td>Ahmedabad</td>\n",
       "      <td>2022-05-29</td>\n",
       "      <td>2022</td>\n",
       "      <td>Final</td>\n",
       "      <td>Rajasthan Royals</td>\n",
       "      <td>Gujarat Titans</td>\n",
       "      <td>Narendra Modi Stadium, Ahmedabad</td>\n",
       "      <td>Rajasthan Royals</td>\n",
       "      <td>bat</td>\n",
       "      <td>...</td>\n",
       "      <td>Gujarat Titans</td>\n",
       "      <td>Wickets</td>\n",
       "      <td>7.0</td>\n",
       "      <td>NaN</td>\n",
       "      <td>HH Pandya</td>\n",
       "      <td>['YBK Jaiswal', 'JC Buttler', 'SV Samson', 'D ...</td>\n",
       "      <td>['WP Saha', 'Shubman Gill', 'MS Wade', 'HH Pan...</td>\n",
       "      <td>CB Gaffaney</td>\n",
       "      <td>Nitin Menon</td>\n",
       "      <td>130</td>\n",
       "    </tr>\n",
       "    <tr>\n",
       "      <th>1</th>\n",
       "      <td>1312199</td>\n",
       "      <td>Ahmedabad</td>\n",
       "      <td>2022-05-27</td>\n",
       "      <td>2022</td>\n",
       "      <td>Qualifier 2</td>\n",
       "      <td>Royal Challengers Bangalore</td>\n",
       "      <td>Rajasthan Royals</td>\n",
       "      <td>Narendra Modi Stadium, Ahmedabad</td>\n",
       "      <td>Rajasthan Royals</td>\n",
       "      <td>field</td>\n",
       "      <td>...</td>\n",
       "      <td>Rajasthan Royals</td>\n",
       "      <td>Wickets</td>\n",
       "      <td>7.0</td>\n",
       "      <td>NaN</td>\n",
       "      <td>JC Buttler</td>\n",
       "      <td>['V Kohli', 'F du Plessis', 'RM Patidar', 'GJ ...</td>\n",
       "      <td>['YBK Jaiswal', 'JC Buttler', 'SV Samson', 'D ...</td>\n",
       "      <td>CB Gaffaney</td>\n",
       "      <td>Nitin Menon</td>\n",
       "      <td>157</td>\n",
       "    </tr>\n",
       "    <tr>\n",
       "      <th>2</th>\n",
       "      <td>1312198</td>\n",
       "      <td>Kolkata</td>\n",
       "      <td>2022-05-25</td>\n",
       "      <td>2022</td>\n",
       "      <td>Eliminator</td>\n",
       "      <td>Royal Challengers Bangalore</td>\n",
       "      <td>Lucknow Super Giants</td>\n",
       "      <td>Eden Gardens, Kolkata</td>\n",
       "      <td>Lucknow Super Giants</td>\n",
       "      <td>field</td>\n",
       "      <td>...</td>\n",
       "      <td>Royal Challengers Bangalore</td>\n",
       "      <td>Runs</td>\n",
       "      <td>14.0</td>\n",
       "      <td>NaN</td>\n",
       "      <td>RM Patidar</td>\n",
       "      <td>['V Kohli', 'F du Plessis', 'RM Patidar', 'GJ ...</td>\n",
       "      <td>['Q de Kock', 'KL Rahul', 'M Vohra', 'DJ Hooda...</td>\n",
       "      <td>J Madanagopal</td>\n",
       "      <td>MA Gough</td>\n",
       "      <td>207</td>\n",
       "    </tr>\n",
       "    <tr>\n",
       "      <th>3</th>\n",
       "      <td>1312197</td>\n",
       "      <td>Kolkata</td>\n",
       "      <td>2022-05-24</td>\n",
       "      <td>2022</td>\n",
       "      <td>Qualifier 1</td>\n",
       "      <td>Rajasthan Royals</td>\n",
       "      <td>Gujarat Titans</td>\n",
       "      <td>Eden Gardens, Kolkata</td>\n",
       "      <td>Gujarat Titans</td>\n",
       "      <td>field</td>\n",
       "      <td>...</td>\n",
       "      <td>Gujarat Titans</td>\n",
       "      <td>Wickets</td>\n",
       "      <td>7.0</td>\n",
       "      <td>NaN</td>\n",
       "      <td>DA Miller</td>\n",
       "      <td>['YBK Jaiswal', 'JC Buttler', 'SV Samson', 'D ...</td>\n",
       "      <td>['WP Saha', 'Shubman Gill', 'MS Wade', 'HH Pan...</td>\n",
       "      <td>BNJ Oxenford</td>\n",
       "      <td>VK Sharma</td>\n",
       "      <td>188</td>\n",
       "    </tr>\n",
       "    <tr>\n",
       "      <th>4</th>\n",
       "      <td>1304116</td>\n",
       "      <td>Mumbai</td>\n",
       "      <td>2022-05-22</td>\n",
       "      <td>2022</td>\n",
       "      <td>70</td>\n",
       "      <td>Sunrisers Hyderabad</td>\n",
       "      <td>Punjab Kings</td>\n",
       "      <td>Wankhede Stadium, Mumbai</td>\n",
       "      <td>Sunrisers Hyderabad</td>\n",
       "      <td>bat</td>\n",
       "      <td>...</td>\n",
       "      <td>Punjab Kings</td>\n",
       "      <td>Wickets</td>\n",
       "      <td>5.0</td>\n",
       "      <td>NaN</td>\n",
       "      <td>Harpreet Brar</td>\n",
       "      <td>['PK Garg', 'Abhishek Sharma', 'RA Tripathi', ...</td>\n",
       "      <td>['JM Bairstow', 'S Dhawan', 'M Shahrukh Khan',...</td>\n",
       "      <td>AK Chaudhary</td>\n",
       "      <td>NA Patwardhan</td>\n",
       "      <td>157</td>\n",
       "    </tr>\n",
       "  </tbody>\n",
       "</table>\n",
       "<p>5 rows × 21 columns</p>\n",
       "</div>"
      ],
      "text/plain": [
       "        ID       City        Date Season  MatchNumber  \\\n",
       "0  1312200  Ahmedabad  2022-05-29   2022        Final   \n",
       "1  1312199  Ahmedabad  2022-05-27   2022  Qualifier 2   \n",
       "2  1312198    Kolkata  2022-05-25   2022   Eliminator   \n",
       "3  1312197    Kolkata  2022-05-24   2022  Qualifier 1   \n",
       "4  1304116     Mumbai  2022-05-22   2022           70   \n",
       "\n",
       "                         Team1                 Team2  \\\n",
       "0             Rajasthan Royals        Gujarat Titans   \n",
       "1  Royal Challengers Bangalore      Rajasthan Royals   \n",
       "2  Royal Challengers Bangalore  Lucknow Super Giants   \n",
       "3             Rajasthan Royals        Gujarat Titans   \n",
       "4          Sunrisers Hyderabad          Punjab Kings   \n",
       "\n",
       "                              Venue            TossWinner TossDecision  ...  \\\n",
       "0  Narendra Modi Stadium, Ahmedabad      Rajasthan Royals          bat  ...   \n",
       "1  Narendra Modi Stadium, Ahmedabad      Rajasthan Royals        field  ...   \n",
       "2             Eden Gardens, Kolkata  Lucknow Super Giants        field  ...   \n",
       "3             Eden Gardens, Kolkata        Gujarat Titans        field  ...   \n",
       "4          Wankhede Stadium, Mumbai   Sunrisers Hyderabad          bat  ...   \n",
       "\n",
       "                   WinningTeam    WonBy Margin  method Player_of_Match  \\\n",
       "0               Gujarat Titans  Wickets    7.0     NaN       HH Pandya   \n",
       "1             Rajasthan Royals  Wickets    7.0     NaN      JC Buttler   \n",
       "2  Royal Challengers Bangalore     Runs   14.0     NaN      RM Patidar   \n",
       "3               Gujarat Titans  Wickets    7.0     NaN       DA Miller   \n",
       "4                 Punjab Kings  Wickets    5.0     NaN   Harpreet Brar   \n",
       "\n",
       "                                        Team1Players  \\\n",
       "0  ['YBK Jaiswal', 'JC Buttler', 'SV Samson', 'D ...   \n",
       "1  ['V Kohli', 'F du Plessis', 'RM Patidar', 'GJ ...   \n",
       "2  ['V Kohli', 'F du Plessis', 'RM Patidar', 'GJ ...   \n",
       "3  ['YBK Jaiswal', 'JC Buttler', 'SV Samson', 'D ...   \n",
       "4  ['PK Garg', 'Abhishek Sharma', 'RA Tripathi', ...   \n",
       "\n",
       "                                        Team2Players        Umpire1  \\\n",
       "0  ['WP Saha', 'Shubman Gill', 'MS Wade', 'HH Pan...    CB Gaffaney   \n",
       "1  ['YBK Jaiswal', 'JC Buttler', 'SV Samson', 'D ...    CB Gaffaney   \n",
       "2  ['Q de Kock', 'KL Rahul', 'M Vohra', 'DJ Hooda...  J Madanagopal   \n",
       "3  ['WP Saha', 'Shubman Gill', 'MS Wade', 'HH Pan...   BNJ Oxenford   \n",
       "4  ['JM Bairstow', 'S Dhawan', 'M Shahrukh Khan',...   AK Chaudhary   \n",
       "\n",
       "         Umpire2 total_run  \n",
       "0    Nitin Menon       130  \n",
       "1    Nitin Menon       157  \n",
       "2       MA Gough       207  \n",
       "3      VK Sharma       188  \n",
       "4  NA Patwardhan       157  \n",
       "\n",
       "[5 rows x 21 columns]"
      ]
     },
     "execution_count": 64,
     "metadata": {},
     "output_type": "execute_result"
    }
   ],
   "source": [
    "matchDF.head()"
   ]
  },
  {
   "cell_type": "code",
   "execution_count": 65,
   "id": "2384206c",
   "metadata": {},
   "outputs": [
    {
     "data": {
      "text/plain": [
       "(950, 21)"
      ]
     },
     "execution_count": 65,
     "metadata": {},
     "output_type": "execute_result"
    }
   ],
   "source": [
    "matchDF.shape"
   ]
  },
  {
   "cell_type": "code",
   "execution_count": 66,
   "id": "5f34ea20",
   "metadata": {},
   "outputs": [
    {
     "data": {
      "text/plain": [
       "array(['Ahmedabad', 'Kolkata', 'Mumbai', 'Ahemdabad', 'Dubai', 'Sharjah',\n",
       "       'Abu Dhabi', 'Delhi', 'Chennai', nan, 'Hyderabad', 'Bengaluru',\n",
       "       'Chandigarh', 'Jaipur', 'Lucknow', 'Johannesburg', 'Centurion',\n",
       "       'Durban', 'Bloemfontein', 'Port Elizabeth', 'Kimberley',\n",
       "       'East London', 'Cape Town'], dtype=object)"
      ]
     },
     "execution_count": 66,
     "metadata": {},
     "output_type": "execute_result"
    }
   ],
   "source": [
    "matchDF['City'].unique()"
   ]
  },
  {
   "cell_type": "code",
   "execution_count": 67,
   "id": "741d55e6",
   "metadata": {},
   "outputs": [],
   "source": [
    "matchDF = matchDF[matchDF.method != 'D/L']"
   ]
  },
  {
   "cell_type": "code",
   "execution_count": 68,
   "id": "9142a077",
   "metadata": {},
   "outputs": [],
   "source": [
    "matchDF = matchDF[['ID','City','WinningTeam','total_run', 'Team1', 'Team2']]"
   ]
  },
  {
   "cell_type": "code",
   "execution_count": 69,
   "id": "9823eab3",
   "metadata": {},
   "outputs": [],
   "source": [
    "deliveryDF = matchDF.merge(delivery, on = \"ID\")"
   ]
  },
  {
   "cell_type": "code",
   "execution_count": 70,
   "id": "c93a1b37",
   "metadata": {},
   "outputs": [],
   "source": [
    "deliveryDF = deliveryDF[deliveryDF['innings'] == 2]"
   ]
  },
  {
   "cell_type": "code",
   "execution_count": 71,
   "id": "992ec936",
   "metadata": {},
   "outputs": [],
   "source": [
    "deliveryDF['current_score'] = deliveryDF.groupby('ID').cumsum()['total_run_y']"
   ]
  },
  {
   "cell_type": "code",
   "execution_count": 72,
   "id": "67011edb",
   "metadata": {},
   "outputs": [],
   "source": [
    "deliveryDF['runs_left'] = deliveryDF['total_run_x'] - deliveryDF['current_score']"
   ]
  },
  {
   "cell_type": "code",
   "execution_count": 73,
   "id": "ba7916dd",
   "metadata": {},
   "outputs": [],
   "source": [
    "deliveryDF['balls_left'] = 120 - (deliveryDF['overs']*6 + deliveryDF['ballnumber'])"
   ]
  },
  {
   "cell_type": "code",
   "execution_count": 74,
   "id": "71bfd304",
   "metadata": {},
   "outputs": [],
   "source": [
    "deliveryDF['wickets_left'] = 10 - deliveryDF.groupby('ID').cumsum()['isWicketDelivery'].values"
   ]
  },
  {
   "cell_type": "code",
   "execution_count": 75,
   "id": "52119db7",
   "metadata": {},
   "outputs": [],
   "source": [
    "#crr and rrr"
   ]
  },
  {
   "cell_type": "code",
   "execution_count": 76,
   "id": "06ad6fef",
   "metadata": {},
   "outputs": [],
   "source": [
    "deliveryDF['crr'] = (deliveryDF['current_score']*6) / (120 - deliveryDF['balls_left'])"
   ]
  },
  {
   "cell_type": "code",
   "execution_count": 77,
   "id": "61fdfd5a",
   "metadata": {},
   "outputs": [],
   "source": [
    "deliveryDF['rrr'] = (deliveryDF['runs_left']*6) / deliveryDF['balls_left']"
   ]
  },
  {
   "cell_type": "code",
   "execution_count": 78,
   "id": "9fe1efed",
   "metadata": {},
   "outputs": [],
   "source": [
    "#results in 0 & 1"
   ]
  },
  {
   "cell_type": "code",
   "execution_count": 79,
   "id": "71a3f39b",
   "metadata": {},
   "outputs": [],
   "source": [
    "def result(row):\n",
    "    return 1 if row['BattingTeam'] == row['WinningTeam'] else 0"
   ]
  },
  {
   "cell_type": "code",
   "execution_count": 80,
   "id": "8a336f66",
   "metadata": {},
   "outputs": [],
   "source": [
    "deliveryDF['results'] = deliveryDF.apply(result, axis = 1)"
   ]
  },
  {
   "cell_type": "code",
   "execution_count": 81,
   "id": "42e38b8c",
   "metadata": {},
   "outputs": [
    {
     "data": {
      "text/html": [
       "<div>\n",
       "<style scoped>\n",
       "    .dataframe tbody tr th:only-of-type {\n",
       "        vertical-align: middle;\n",
       "    }\n",
       "\n",
       "    .dataframe tbody tr th {\n",
       "        vertical-align: top;\n",
       "    }\n",
       "\n",
       "    .dataframe thead th {\n",
       "        text-align: right;\n",
       "    }\n",
       "</style>\n",
       "<table border=\"1\" class=\"dataframe\">\n",
       "  <thead>\n",
       "    <tr style=\"text-align: right;\">\n",
       "      <th></th>\n",
       "      <th>ID</th>\n",
       "      <th>City</th>\n",
       "      <th>WinningTeam</th>\n",
       "      <th>total_run_x</th>\n",
       "      <th>Team1</th>\n",
       "      <th>Team2</th>\n",
       "      <th>innings</th>\n",
       "      <th>overs</th>\n",
       "      <th>ballnumber</th>\n",
       "      <th>batter</th>\n",
       "      <th>...</th>\n",
       "      <th>kind</th>\n",
       "      <th>fielders_involved</th>\n",
       "      <th>BattingTeam</th>\n",
       "      <th>current_score</th>\n",
       "      <th>runs_left</th>\n",
       "      <th>balls_left</th>\n",
       "      <th>wickets_left</th>\n",
       "      <th>crr</th>\n",
       "      <th>rrr</th>\n",
       "      <th>results</th>\n",
       "    </tr>\n",
       "  </thead>\n",
       "  <tbody>\n",
       "    <tr>\n",
       "      <th>120</th>\n",
       "      <td>1312200</td>\n",
       "      <td>Ahmedabad</td>\n",
       "      <td>Gujarat Titans</td>\n",
       "      <td>130</td>\n",
       "      <td>Rajasthan Royals</td>\n",
       "      <td>Gujarat Titans</td>\n",
       "      <td>2</td>\n",
       "      <td>0</td>\n",
       "      <td>1</td>\n",
       "      <td>WP Saha</td>\n",
       "      <td>...</td>\n",
       "      <td>NaN</td>\n",
       "      <td>NaN</td>\n",
       "      <td>Gujarat Titans</td>\n",
       "      <td>0</td>\n",
       "      <td>130</td>\n",
       "      <td>119</td>\n",
       "      <td>10</td>\n",
       "      <td>0.0</td>\n",
       "      <td>6.554622</td>\n",
       "      <td>1</td>\n",
       "    </tr>\n",
       "    <tr>\n",
       "      <th>121</th>\n",
       "      <td>1312200</td>\n",
       "      <td>Ahmedabad</td>\n",
       "      <td>Gujarat Titans</td>\n",
       "      <td>130</td>\n",
       "      <td>Rajasthan Royals</td>\n",
       "      <td>Gujarat Titans</td>\n",
       "      <td>2</td>\n",
       "      <td>0</td>\n",
       "      <td>2</td>\n",
       "      <td>WP Saha</td>\n",
       "      <td>...</td>\n",
       "      <td>NaN</td>\n",
       "      <td>NaN</td>\n",
       "      <td>Gujarat Titans</td>\n",
       "      <td>0</td>\n",
       "      <td>130</td>\n",
       "      <td>118</td>\n",
       "      <td>10</td>\n",
       "      <td>0.0</td>\n",
       "      <td>6.610169</td>\n",
       "      <td>1</td>\n",
       "    </tr>\n",
       "    <tr>\n",
       "      <th>122</th>\n",
       "      <td>1312200</td>\n",
       "      <td>Ahmedabad</td>\n",
       "      <td>Gujarat Titans</td>\n",
       "      <td>130</td>\n",
       "      <td>Rajasthan Royals</td>\n",
       "      <td>Gujarat Titans</td>\n",
       "      <td>2</td>\n",
       "      <td>0</td>\n",
       "      <td>3</td>\n",
       "      <td>WP Saha</td>\n",
       "      <td>...</td>\n",
       "      <td>NaN</td>\n",
       "      <td>NaN</td>\n",
       "      <td>Gujarat Titans</td>\n",
       "      <td>1</td>\n",
       "      <td>129</td>\n",
       "      <td>117</td>\n",
       "      <td>10</td>\n",
       "      <td>2.0</td>\n",
       "      <td>6.615385</td>\n",
       "      <td>1</td>\n",
       "    </tr>\n",
       "    <tr>\n",
       "      <th>123</th>\n",
       "      <td>1312200</td>\n",
       "      <td>Ahmedabad</td>\n",
       "      <td>Gujarat Titans</td>\n",
       "      <td>130</td>\n",
       "      <td>Rajasthan Royals</td>\n",
       "      <td>Gujarat Titans</td>\n",
       "      <td>2</td>\n",
       "      <td>0</td>\n",
       "      <td>4</td>\n",
       "      <td>Shubman Gill</td>\n",
       "      <td>...</td>\n",
       "      <td>NaN</td>\n",
       "      <td>NaN</td>\n",
       "      <td>Gujarat Titans</td>\n",
       "      <td>1</td>\n",
       "      <td>129</td>\n",
       "      <td>116</td>\n",
       "      <td>10</td>\n",
       "      <td>1.5</td>\n",
       "      <td>6.672414</td>\n",
       "      <td>1</td>\n",
       "    </tr>\n",
       "    <tr>\n",
       "      <th>124</th>\n",
       "      <td>1312200</td>\n",
       "      <td>Ahmedabad</td>\n",
       "      <td>Gujarat Titans</td>\n",
       "      <td>130</td>\n",
       "      <td>Rajasthan Royals</td>\n",
       "      <td>Gujarat Titans</td>\n",
       "      <td>2</td>\n",
       "      <td>0</td>\n",
       "      <td>5</td>\n",
       "      <td>Shubman Gill</td>\n",
       "      <td>...</td>\n",
       "      <td>NaN</td>\n",
       "      <td>NaN</td>\n",
       "      <td>Gujarat Titans</td>\n",
       "      <td>1</td>\n",
       "      <td>129</td>\n",
       "      <td>115</td>\n",
       "      <td>10</td>\n",
       "      <td>1.2</td>\n",
       "      <td>6.730435</td>\n",
       "      <td>1</td>\n",
       "    </tr>\n",
       "  </tbody>\n",
       "</table>\n",
       "<p>5 rows × 29 columns</p>\n",
       "</div>"
      ],
      "text/plain": [
       "          ID       City     WinningTeam  total_run_x             Team1  \\\n",
       "120  1312200  Ahmedabad  Gujarat Titans          130  Rajasthan Royals   \n",
       "121  1312200  Ahmedabad  Gujarat Titans          130  Rajasthan Royals   \n",
       "122  1312200  Ahmedabad  Gujarat Titans          130  Rajasthan Royals   \n",
       "123  1312200  Ahmedabad  Gujarat Titans          130  Rajasthan Royals   \n",
       "124  1312200  Ahmedabad  Gujarat Titans          130  Rajasthan Royals   \n",
       "\n",
       "              Team2  innings  overs  ballnumber        batter  ... kind  \\\n",
       "120  Gujarat Titans        2      0           1       WP Saha  ...  NaN   \n",
       "121  Gujarat Titans        2      0           2       WP Saha  ...  NaN   \n",
       "122  Gujarat Titans        2      0           3       WP Saha  ...  NaN   \n",
       "123  Gujarat Titans        2      0           4  Shubman Gill  ...  NaN   \n",
       "124  Gujarat Titans        2      0           5  Shubman Gill  ...  NaN   \n",
       "\n",
       "    fielders_involved     BattingTeam  current_score  runs_left  balls_left  \\\n",
       "120               NaN  Gujarat Titans              0        130         119   \n",
       "121               NaN  Gujarat Titans              0        130         118   \n",
       "122               NaN  Gujarat Titans              1        129         117   \n",
       "123               NaN  Gujarat Titans              1        129         116   \n",
       "124               NaN  Gujarat Titans              1        129         115   \n",
       "\n",
       "     wickets_left  crr       rrr results  \n",
       "120            10  0.0  6.554622       1  \n",
       "121            10  0.0  6.610169       1  \n",
       "122            10  2.0  6.615385       1  \n",
       "123            10  1.5  6.672414       1  \n",
       "124            10  1.2  6.730435       1  \n",
       "\n",
       "[5 rows x 29 columns]"
      ]
     },
     "execution_count": 81,
     "metadata": {},
     "output_type": "execute_result"
    }
   ],
   "source": [
    "deliveryDF.head()"
   ]
  },
  {
   "cell_type": "code",
   "execution_count": 82,
   "id": "fee70eae",
   "metadata": {},
   "outputs": [],
   "source": [
    "#removed balls left as 0, -1, -2, -3\n",
    "deliveryDF = deliveryDF[deliveryDF.balls_left != 0]\n",
    "deliveryDF = deliveryDF[deliveryDF.balls_left != -1]\n",
    "deliveryDF = deliveryDF[deliveryDF.balls_left != -2]\n",
    "deliveryDF = deliveryDF[deliveryDF.balls_left != -3]\n"
   ]
  },
  {
   "cell_type": "code",
   "execution_count": 84,
   "id": "32d39056",
   "metadata": {},
   "outputs": [],
   "source": [
    "finalDF = deliveryDF[['BattingTeam','Team1', 'Team2', 'City',\n",
    "            'runs_left', 'balls_left','wickets_left',\n",
    "            'total_run_x','crr','rrr','results']]"
   ]
  },
  {
   "cell_type": "code",
   "execution_count": 85,
   "id": "a192c3a7",
   "metadata": {},
   "outputs": [],
   "source": [
    "def BowlingTeamFind(row):\n",
    "    if row['Team1'] == row['BattingTeam']:\n",
    "        row['BowlingTeam'] = row['Team2']\n",
    "        return row['BowlingTeam']\n",
    "    else:\n",
    "        row['BowlingTeam'] = row['Team1']\n",
    "        return row['BowlingTeam']"
   ]
  },
  {
   "cell_type": "code",
   "execution_count": 86,
   "id": "688b60cd",
   "metadata": {
    "scrolled": false
   },
   "outputs": [
    {
     "name": "stderr",
     "output_type": "stream",
     "text": [
      "C:\\Users\\ASUS\\AppData\\Local\\Temp/ipykernel_11928/857192546.py:1: SettingWithCopyWarning: \n",
      "A value is trying to be set on a copy of a slice from a DataFrame.\n",
      "Try using .loc[row_indexer,col_indexer] = value instead\n",
      "\n",
      "See the caveats in the documentation: https://pandas.pydata.org/pandas-docs/stable/user_guide/indexing.html#returning-a-view-versus-a-copy\n",
      "  finalDF['BowlingTeam'] = finalDF.apply(BowlingTeamFind, axis = 1)\n"
     ]
    }
   ],
   "source": [
    "finalDF['BowlingTeam'] = finalDF.apply(BowlingTeamFind, axis = 1)"
   ]
  },
  {
   "cell_type": "code",
   "execution_count": 87,
   "id": "4f236992",
   "metadata": {},
   "outputs": [
    {
     "data": {
      "text/plain": [
       "array(['Rajasthan Royals', 'Royal Challengers Bangalore',\n",
       "       'Sunrisers Hyderabad', 'Delhi Capitals', 'Chennai Super Kings',\n",
       "       'Gujarat Titans', 'Lucknow Super Giants', 'Kolkata Knight Riders',\n",
       "       'Punjab Kings', 'Mumbai Indians'], dtype=object)"
      ]
     },
     "execution_count": 87,
     "metadata": {},
     "output_type": "execute_result"
    }
   ],
   "source": [
    "finalDF['BowlingTeam'].unique()"
   ]
  },
  {
   "cell_type": "code",
   "execution_count": 88,
   "id": "fdb66f91",
   "metadata": {
    "scrolled": true
   },
   "outputs": [],
   "source": [
    "teams = [\n",
    "    'Chennai Super Kings',\n",
    "    'Delhi Capitals',\n",
    "    'Royal Challengers Bangalore',\n",
    "    'Mumbai Indians',\n",
    "    'Kolkata Knight Riders',\n",
    "    'Rajasthan Royals',\n",
    "    'Sunrisers Hyderabad',\n",
    "    'Punjab Kings',\n",
    "    'Gujarat Titans',\n",
    "    'Lucknow Super Giants']\n",
    "finalDF = finalDF[finalDF['BowlingTeam'].isin(teams)]"
   ]
  },
  {
   "cell_type": "code",
   "execution_count": 89,
   "id": "1459ee44",
   "metadata": {},
   "outputs": [
    {
     "data": {
      "text/plain": [
       "array(['Ahmedabad', 'Kolkata', 'Mumbai', 'Ahemdabad', 'Dubai', 'Sharjah',\n",
       "       'Abu Dhabi', 'Delhi', 'Chennai', nan, 'Hyderabad', 'Bengaluru',\n",
       "       'Chandigarh', 'Jaipur', 'Lucknow', 'Johannesburg', 'Centurion',\n",
       "       'Durban', 'Bloemfontein', 'Port Elizabeth', 'Kimberley',\n",
       "       'East London', 'Cape Town'], dtype=object)"
      ]
     },
     "execution_count": 89,
     "metadata": {},
     "output_type": "execute_result"
    }
   ],
   "source": [
    "finalDF['City'].unique()"
   ]
  },
  {
   "cell_type": "code",
   "execution_count": 90,
   "id": "50c25f88",
   "metadata": {},
   "outputs": [],
   "source": [
    "finalDF = finalDF[['BattingTeam','BowlingTeam','City',\n",
    "            'runs_left', 'balls_left','wickets_left',\n",
    "            'total_run_x','crr','rrr','results']]"
   ]
  },
  {
   "cell_type": "code",
   "execution_count": 91,
   "id": "fbfe2589",
   "metadata": {},
   "outputs": [],
   "source": [
    "finalDF = finalDF.sample(finalDF.shape[0])"
   ]
  },
  {
   "cell_type": "code",
   "execution_count": 92,
   "id": "955f1d70",
   "metadata": {
    "scrolled": true
   },
   "outputs": [
    {
     "data": {
      "text/html": [
       "<div>\n",
       "<style scoped>\n",
       "    .dataframe tbody tr th:only-of-type {\n",
       "        vertical-align: middle;\n",
       "    }\n",
       "\n",
       "    .dataframe tbody tr th {\n",
       "        vertical-align: top;\n",
       "    }\n",
       "\n",
       "    .dataframe thead th {\n",
       "        text-align: right;\n",
       "    }\n",
       "</style>\n",
       "<table border=\"1\" class=\"dataframe\">\n",
       "  <thead>\n",
       "    <tr style=\"text-align: right;\">\n",
       "      <th></th>\n",
       "      <th>BattingTeam</th>\n",
       "      <th>BowlingTeam</th>\n",
       "      <th>City</th>\n",
       "      <th>runs_left</th>\n",
       "      <th>balls_left</th>\n",
       "      <th>wickets_left</th>\n",
       "      <th>total_run_x</th>\n",
       "      <th>crr</th>\n",
       "      <th>rrr</th>\n",
       "      <th>results</th>\n",
       "    </tr>\n",
       "  </thead>\n",
       "  <tbody>\n",
       "    <tr>\n",
       "      <th>6690</th>\n",
       "      <td>Kolkata Knight Riders</td>\n",
       "      <td>Rajasthan Royals</td>\n",
       "      <td>Mumbai</td>\n",
       "      <td>67</td>\n",
       "      <td>48</td>\n",
       "      <td>8</td>\n",
       "      <td>152</td>\n",
       "      <td>7.083333</td>\n",
       "      <td>8.375000</td>\n",
       "      <td>1</td>\n",
       "    </tr>\n",
       "    <tr>\n",
       "      <th>203979</th>\n",
       "      <td>Royal Challengers Bangalore</td>\n",
       "      <td>Mumbai Indians</td>\n",
       "      <td>Johannesburg</td>\n",
       "      <td>6</td>\n",
       "      <td>13</td>\n",
       "      <td>9</td>\n",
       "      <td>149</td>\n",
       "      <td>8.018692</td>\n",
       "      <td>2.769231</td>\n",
       "      <td>1</td>\n",
       "    </tr>\n",
       "    <tr>\n",
       "      <th>118877</th>\n",
       "      <td>Sunrisers Hyderabad</td>\n",
       "      <td>Royal Challengers Bangalore</td>\n",
       "      <td>Hyderabad</td>\n",
       "      <td>92</td>\n",
       "      <td>66</td>\n",
       "      <td>10</td>\n",
       "      <td>160</td>\n",
       "      <td>7.555556</td>\n",
       "      <td>8.363636</td>\n",
       "      <td>1</td>\n",
       "    </tr>\n",
       "    <tr>\n",
       "      <th>192806</th>\n",
       "      <td>Chennai Super Kings</td>\n",
       "      <td>Punjab Kings</td>\n",
       "      <td>Chennai</td>\n",
       "      <td>31</td>\n",
       "      <td>35</td>\n",
       "      <td>6</td>\n",
       "      <td>136</td>\n",
       "      <td>7.411765</td>\n",
       "      <td>5.314286</td>\n",
       "      <td>0</td>\n",
       "    </tr>\n",
       "    <tr>\n",
       "      <th>4052</th>\n",
       "      <td>Delhi Capitals</td>\n",
       "      <td>Rajasthan Royals</td>\n",
       "      <td>Mumbai</td>\n",
       "      <td>103</td>\n",
       "      <td>71</td>\n",
       "      <td>9</td>\n",
       "      <td>160</td>\n",
       "      <td>6.979592</td>\n",
       "      <td>8.704225</td>\n",
       "      <td>1</td>\n",
       "    </tr>\n",
       "  </tbody>\n",
       "</table>\n",
       "</div>"
      ],
      "text/plain": [
       "                        BattingTeam                  BowlingTeam  \\\n",
       "6690          Kolkata Knight Riders             Rajasthan Royals   \n",
       "203979  Royal Challengers Bangalore               Mumbai Indians   \n",
       "118877          Sunrisers Hyderabad  Royal Challengers Bangalore   \n",
       "192806          Chennai Super Kings                 Punjab Kings   \n",
       "4052                 Delhi Capitals             Rajasthan Royals   \n",
       "\n",
       "                City  runs_left  balls_left  wickets_left  total_run_x  \\\n",
       "6690          Mumbai         67          48             8          152   \n",
       "203979  Johannesburg          6          13             9          149   \n",
       "118877     Hyderabad         92          66            10          160   \n",
       "192806       Chennai         31          35             6          136   \n",
       "4052          Mumbai        103          71             9          160   \n",
       "\n",
       "             crr       rrr  results  \n",
       "6690    7.083333  8.375000        1  \n",
       "203979  8.018692  2.769231        1  \n",
       "118877  7.555556  8.363636        1  \n",
       "192806  7.411765  5.314286        0  \n",
       "4052    6.979592  8.704225        1  "
      ]
     },
     "execution_count": 92,
     "metadata": {},
     "output_type": "execute_result"
    }
   ],
   "source": [
    "finalDF.head()"
   ]
  },
  {
   "cell_type": "code",
   "execution_count": 93,
   "id": "c87e4897",
   "metadata": {},
   "outputs": [],
   "source": [
    "# finalDF.isnull().sum()"
   ]
  },
  {
   "cell_type": "code",
   "execution_count": 94,
   "id": "5c540b27",
   "metadata": {},
   "outputs": [],
   "source": [
    "finalDF.dropna(inplace = True)"
   ]
  },
  {
   "cell_type": "code",
   "execution_count": 96,
   "id": "856bd010",
   "metadata": {},
   "outputs": [
    {
     "data": {
      "text/plain": [
       "(101293, 10)"
      ]
     },
     "execution_count": 96,
     "metadata": {},
     "output_type": "execute_result"
    }
   ],
   "source": [
    "finalDF.shape"
   ]
  },
  {
   "cell_type": "code",
   "execution_count": 97,
   "id": "1624293a",
   "metadata": {},
   "outputs": [],
   "source": [
    "X = finalDF.iloc[:,:-1]\n",
    "y = finalDF.iloc[:,-1]\n",
    "\n",
    "from sklearn.model_selection import train_test_split\n",
    "X_train, X_test, y_train, y_test = train_test_split(X,y, test_size = 0.2, random_state = 1)"
   ]
  },
  {
   "cell_type": "code",
   "execution_count": 51,
   "id": "3812e2c9",
   "metadata": {},
   "outputs": [],
   "source": [
    "#converting string into usable format using onehotencoding"
   ]
  },
  {
   "cell_type": "code",
   "execution_count": 98,
   "id": "ae5d1647",
   "metadata": {},
   "outputs": [],
   "source": [
    "from sklearn.compose import ColumnTransformer\n",
    "from sklearn.preprocessing import OneHotEncoder\n",
    "\n",
    "\n",
    "trf = ColumnTransformer([('trf', OneHotEncoder(sparse = False, drop = 'first'),\n",
    "                          ['BattingTeam','BowlingTeam','City'])],\n",
    "                        remainder = 'passthrough')"
   ]
  },
  {
   "cell_type": "code",
   "execution_count": 99,
   "id": "3e253e14",
   "metadata": {},
   "outputs": [],
   "source": [
    "from sklearn.linear_model import LogisticRegression\n",
    "from sklearn.ensemble import RandomForestClassifier\n",
    "from sklearn.pipeline import Pipeline"
   ]
  },
  {
   "cell_type": "code",
   "execution_count": 103,
   "id": "33d2160d",
   "metadata": {},
   "outputs": [],
   "source": [
    "pipe = Pipeline(steps = [('step1', trf), ('step2', LogisticRegression(solver = 'liblinear'))])"
   ]
  },
  {
   "cell_type": "code",
   "execution_count": 104,
   "id": "338d7f02",
   "metadata": {},
   "outputs": [],
   "source": [
    "pipe2 = Pipeline(steps = [('step1', trf), ('step2', RandomForestClassifier(n_estimators=20))])"
   ]
  },
  {
   "cell_type": "code",
   "execution_count": 105,
   "id": "93946d8b",
   "metadata": {},
   "outputs": [
    {
     "data": {
      "text/plain": [
       "Pipeline(steps=[('step1',\n",
       "                 ColumnTransformer(remainder='passthrough',\n",
       "                                   transformers=[('trf',\n",
       "                                                  OneHotEncoder(drop='first',\n",
       "                                                                sparse=False),\n",
       "                                                  ['BattingTeam', 'BowlingTeam',\n",
       "                                                   'City'])])),\n",
       "                ('step2', LogisticRegression(solver='liblinear'))])"
      ]
     },
     "execution_count": 105,
     "metadata": {},
     "output_type": "execute_result"
    }
   ],
   "source": [
    "pipe.fit(X_train,y_train)"
   ]
  },
  {
   "cell_type": "code",
   "execution_count": 106,
   "id": "c9d901c6",
   "metadata": {},
   "outputs": [
    {
     "data": {
      "text/plain": [
       "Pipeline(steps=[('step1',\n",
       "                 ColumnTransformer(remainder='passthrough',\n",
       "                                   transformers=[('trf',\n",
       "                                                  OneHotEncoder(drop='first',\n",
       "                                                                sparse=False),\n",
       "                                                  ['BattingTeam', 'BowlingTeam',\n",
       "                                                   'City'])])),\n",
       "                ('step2', RandomForestClassifier(n_estimators=20))])"
      ]
     },
     "execution_count": 106,
     "metadata": {},
     "output_type": "execute_result"
    }
   ],
   "source": [
    "pipe2.fit(X_train,y_train)"
   ]
  },
  {
   "cell_type": "code",
   "execution_count": 110,
   "id": "a8ffbe80",
   "metadata": {},
   "outputs": [],
   "source": [
    "y_pred = pipe.predict(X_test)"
   ]
  },
  {
   "cell_type": "code",
   "execution_count": 111,
   "id": "cc81778e",
   "metadata": {},
   "outputs": [],
   "source": [
    "y_pred2 = pipe2.predict(X_test)"
   ]
  },
  {
   "cell_type": "code",
   "execution_count": 112,
   "id": "b060f045",
   "metadata": {},
   "outputs": [],
   "source": [
    "from sklearn.metrics import accuracy_score"
   ]
  },
  {
   "cell_type": "code",
   "execution_count": 115,
   "id": "9c7ae980",
   "metadata": {},
   "outputs": [
    {
     "name": "stdout",
     "output_type": "stream",
     "text": [
      "0.7993977985093045\n",
      "0.9977294042154105\n"
     ]
    }
   ],
   "source": [
    "print(accuracy_score(y_test,y_pred))\n",
    "print(accuracy_score(y_test,y_pred2))"
   ]
  },
  {
   "cell_type": "code",
   "execution_count": 117,
   "id": "52069b32",
   "metadata": {},
   "outputs": [
    {
     "data": {
      "text/plain": [
       "['Chennai Super Kings',\n",
       " 'Delhi Capitals',\n",
       " 'Royal Challengers Bangalore',\n",
       " 'Mumbai Indians',\n",
       " 'Kolkata Knight Riders',\n",
       " 'Rajasthan Royals',\n",
       " 'Sunrisers Hyderabad',\n",
       " 'Punjab Kings',\n",
       " 'Gujarat Titans',\n",
       " 'Lucknow Super Giants']"
      ]
     },
     "execution_count": 117,
     "metadata": {},
     "output_type": "execute_result"
    }
   ],
   "source": [
    "teams"
   ]
  },
  {
   "cell_type": "code",
   "execution_count": 116,
   "id": "c505f2ee",
   "metadata": {},
   "outputs": [
    {
     "data": {
      "text/plain": [
       "array(['Mumbai', 'Johannesburg', 'Hyderabad', 'Chennai', 'Abu Dhabi',\n",
       "       'Chandigarh', 'Lucknow', 'Centurion', 'Delhi', 'Durban',\n",
       "       'Bengaluru', 'Ahemdabad', 'Kolkata', 'Ahmedabad', 'Jaipur',\n",
       "       'Port Elizabeth', 'East London', 'Sharjah', 'Dubai', 'Cape Town',\n",
       "       'Bloemfontein', 'Kimberley'], dtype=object)"
      ]
     },
     "execution_count": 116,
     "metadata": {},
     "output_type": "execute_result"
    }
   ],
   "source": [
    "finalDF['City'].unique()"
   ]
  },
  {
   "cell_type": "code",
   "execution_count": 118,
   "id": "c69503e0",
   "metadata": {},
   "outputs": [],
   "source": [
    "import pickle\n",
    "pickle.dump(pipe, open('pipe.pkl','wb'))"
   ]
  }
 ],
 "metadata": {
  "kernelspec": {
   "display_name": "Python 3 (ipykernel)",
   "language": "python",
   "name": "python3"
  },
  "language_info": {
   "codemirror_mode": {
    "name": "ipython",
    "version": 3
   },
   "file_extension": ".py",
   "mimetype": "text/x-python",
   "name": "python",
   "nbconvert_exporter": "python",
   "pygments_lexer": "ipython3",
   "version": "3.9.7"
  }
 },
 "nbformat": 4,
 "nbformat_minor": 5
}

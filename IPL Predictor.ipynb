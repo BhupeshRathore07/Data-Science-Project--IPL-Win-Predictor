{
 "cells": [
  {
   "cell_type": "code",
   "execution_count": 1,
   "id": "06e4273c",
   "metadata": {},
   "outputs": [],
   "source": [
    "import pandas as pd\n",
    "import numpy as np\n",
    "import matplotlib as plt"
   ]
  },
  {
   "cell_type": "code",
   "execution_count": 2,
   "id": "7f209b9d",
   "metadata": {},
   "outputs": [],
   "source": [
    "match = pd.read_csv(\"IPL_Matches_2008_2021.csv\")\n",
    "delivery = pd.read_csv(\"IPL_Ball_by_Ball_2008_2021.csv\")"
   ]
  },
  {
   "cell_type": "code",
   "execution_count": 3,
   "id": "3e68d9ba",
   "metadata": {},
   "outputs": [
    {
     "data": {
      "text/html": [
       "<div>\n",
       "<style scoped>\n",
       "    .dataframe tbody tr th:only-of-type {\n",
       "        vertical-align: middle;\n",
       "    }\n",
       "\n",
       "    .dataframe tbody tr th {\n",
       "        vertical-align: top;\n",
       "    }\n",
       "\n",
       "    .dataframe thead th {\n",
       "        text-align: right;\n",
       "    }\n",
       "</style>\n",
       "<table border=\"1\" class=\"dataframe\">\n",
       "  <thead>\n",
       "    <tr style=\"text-align: right;\">\n",
       "      <th></th>\n",
       "      <th>ID</th>\n",
       "      <th>City</th>\n",
       "      <th>Date</th>\n",
       "      <th>Season</th>\n",
       "      <th>MatchNumber</th>\n",
       "      <th>Team1</th>\n",
       "      <th>Team2</th>\n",
       "      <th>Venue</th>\n",
       "      <th>TossWinner</th>\n",
       "      <th>TossDecision</th>\n",
       "      <th>SuperOver</th>\n",
       "      <th>WinningTeam</th>\n",
       "      <th>WonBy</th>\n",
       "      <th>Margin</th>\n",
       "      <th>method</th>\n",
       "      <th>Player_of_Match</th>\n",
       "      <th>Team1Players</th>\n",
       "      <th>Team2Players</th>\n",
       "      <th>Umpire1</th>\n",
       "      <th>Umpire2</th>\n",
       "    </tr>\n",
       "  </thead>\n",
       "  <tbody>\n",
       "    <tr>\n",
       "      <th>0</th>\n",
       "      <td>1254117</td>\n",
       "      <td>Dubai</td>\n",
       "      <td>2021-10-15</td>\n",
       "      <td>2021</td>\n",
       "      <td>Final</td>\n",
       "      <td>Chennai Super Kings</td>\n",
       "      <td>Kolkata Knight Riders</td>\n",
       "      <td>Dubai International Cricket Stadium</td>\n",
       "      <td>Kolkata Knight Riders</td>\n",
       "      <td>field</td>\n",
       "      <td>N</td>\n",
       "      <td>Chennai Super Kings</td>\n",
       "      <td>Runs</td>\n",
       "      <td>27.0</td>\n",
       "      <td>NaN</td>\n",
       "      <td>F du Plessis</td>\n",
       "      <td>['RD Gaikwad', 'F du Plessis', 'RV Uthappa', '...</td>\n",
       "      <td>['Shubman Gill', 'VR Iyer', 'N Rana', 'SP Nari...</td>\n",
       "      <td>Nitin Menon</td>\n",
       "      <td>RK Illingworth</td>\n",
       "    </tr>\n",
       "  </tbody>\n",
       "</table>\n",
       "</div>"
      ],
      "text/plain": [
       "        ID   City        Date Season MatchNumber                Team1  \\\n",
       "0  1254117  Dubai  2021-10-15   2021       Final  Chennai Super Kings   \n",
       "\n",
       "                   Team2                                Venue  \\\n",
       "0  Kolkata Knight Riders  Dubai International Cricket Stadium   \n",
       "\n",
       "              TossWinner TossDecision SuperOver          WinningTeam WonBy  \\\n",
       "0  Kolkata Knight Riders        field         N  Chennai Super Kings  Runs   \n",
       "\n",
       "   Margin method Player_of_Match  \\\n",
       "0    27.0    NaN    F du Plessis   \n",
       "\n",
       "                                        Team1Players  \\\n",
       "0  ['RD Gaikwad', 'F du Plessis', 'RV Uthappa', '...   \n",
       "\n",
       "                                        Team2Players      Umpire1  \\\n",
       "0  ['Shubman Gill', 'VR Iyer', 'N Rana', 'SP Nari...  Nitin Menon   \n",
       "\n",
       "          Umpire2  \n",
       "0  RK Illingworth  "
      ]
     },
     "execution_count": 3,
     "metadata": {},
     "output_type": "execute_result"
    }
   ],
   "source": [
    "match.head(1)"
   ]
  },
  {
   "cell_type": "code",
   "execution_count": 4,
   "id": "817a6fdb",
   "metadata": {},
   "outputs": [
    {
     "data": {
      "text/html": [
       "<div>\n",
       "<style scoped>\n",
       "    .dataframe tbody tr th:only-of-type {\n",
       "        vertical-align: middle;\n",
       "    }\n",
       "\n",
       "    .dataframe tbody tr th {\n",
       "        vertical-align: top;\n",
       "    }\n",
       "\n",
       "    .dataframe thead th {\n",
       "        text-align: right;\n",
       "    }\n",
       "</style>\n",
       "<table border=\"1\" class=\"dataframe\">\n",
       "  <thead>\n",
       "    <tr style=\"text-align: right;\">\n",
       "      <th></th>\n",
       "      <th>ID</th>\n",
       "      <th>innings</th>\n",
       "      <th>overs</th>\n",
       "      <th>ballnumber</th>\n",
       "      <th>batter</th>\n",
       "      <th>bowler</th>\n",
       "      <th>non-striker</th>\n",
       "      <th>extra_type</th>\n",
       "      <th>batsman_run</th>\n",
       "      <th>extras_run</th>\n",
       "      <th>total_run</th>\n",
       "      <th>non_boundary</th>\n",
       "      <th>isWicketDelivery</th>\n",
       "      <th>player_out</th>\n",
       "      <th>kind</th>\n",
       "      <th>fielders_involved</th>\n",
       "      <th>BattingTeam</th>\n",
       "    </tr>\n",
       "  </thead>\n",
       "  <tbody>\n",
       "    <tr>\n",
       "      <th>0</th>\n",
       "      <td>1254117</td>\n",
       "      <td>1</td>\n",
       "      <td>0</td>\n",
       "      <td>1</td>\n",
       "      <td>RD Gaikwad</td>\n",
       "      <td>Shakib Al Hasan</td>\n",
       "      <td>F du Plessis</td>\n",
       "      <td>NaN</td>\n",
       "      <td>1</td>\n",
       "      <td>0</td>\n",
       "      <td>1</td>\n",
       "      <td>0</td>\n",
       "      <td>0</td>\n",
       "      <td>NaN</td>\n",
       "      <td>NaN</td>\n",
       "      <td>NaN</td>\n",
       "      <td>Chennai Super Kings</td>\n",
       "    </tr>\n",
       "  </tbody>\n",
       "</table>\n",
       "</div>"
      ],
      "text/plain": [
       "        ID  innings  overs  ballnumber      batter           bowler  \\\n",
       "0  1254117        1      0           1  RD Gaikwad  Shakib Al Hasan   \n",
       "\n",
       "    non-striker extra_type  batsman_run  extras_run  total_run  non_boundary  \\\n",
       "0  F du Plessis        NaN            1           0          1             0   \n",
       "\n",
       "   isWicketDelivery player_out kind fielders_involved          BattingTeam  \n",
       "0                 0        NaN  NaN               NaN  Chennai Super Kings  "
      ]
     },
     "execution_count": 4,
     "metadata": {},
     "output_type": "execute_result"
    }
   ],
   "source": [
    "delivery.head(1)"
   ]
  },
  {
   "cell_type": "code",
   "execution_count": 5,
   "id": "0d75d2fc",
   "metadata": {},
   "outputs": [
    {
     "data": {
      "text/plain": [
       "(876, 20)"
      ]
     },
     "execution_count": 5,
     "metadata": {},
     "output_type": "execute_result"
    }
   ],
   "source": [
    "match.shape"
   ]
  },
  {
   "cell_type": "code",
   "execution_count": 6,
   "id": "797f7db8",
   "metadata": {},
   "outputs": [
    {
     "data": {
      "text/plain": [
       "(208042, 17)"
      ]
     },
     "execution_count": 6,
     "metadata": {},
     "output_type": "execute_result"
    }
   ],
   "source": [
    "delivery.shape"
   ]
  },
  {
   "cell_type": "code",
   "execution_count": 7,
   "id": "e0841b5e",
   "metadata": {},
   "outputs": [],
   "source": [
    "totalScoreDF = delivery.groupby(['ID', 'innings']).sum()['total_run'].reset_index()"
   ]
  },
  {
   "cell_type": "code",
   "execution_count": 8,
   "id": "be33f9c9",
   "metadata": {},
   "outputs": [],
   "source": [
    "totalScoreDF = totalScoreDF[totalScoreDF[\"innings\"] == 1]"
   ]
  },
  {
   "cell_type": "code",
   "execution_count": 9,
   "id": "55560a06",
   "metadata": {},
   "outputs": [],
   "source": [
    "matchDF = match.merge(totalScoreDF[['ID', 'total_run']], left_on = 'ID',right_on = 'ID')"
   ]
  },
  {
   "cell_type": "code",
   "execution_count": 10,
   "id": "b99820b3",
   "metadata": {},
   "outputs": [
    {
     "data": {
      "text/plain": [
       "(876, 21)"
      ]
     },
     "execution_count": 10,
     "metadata": {},
     "output_type": "execute_result"
    }
   ],
   "source": [
    "matchDF.shape"
   ]
  },
  {
   "cell_type": "code",
   "execution_count": 11,
   "id": "bfa18445",
   "metadata": {},
   "outputs": [
    {
     "data": {
      "text/plain": [
       "array(['Chennai Super Kings', 'Delhi Capitals',\n",
       "       'Royal Challengers Bangalore', 'Mumbai Indians',\n",
       "       'Kolkata Knight Riders', 'Sunrisers Hyderabad', 'Rajasthan Royals',\n",
       "       'Punjab Kings', 'Kings XI Punjab', 'Delhi Daredevils',\n",
       "       'Rising Pune Supergiant', 'Gujarat Lions',\n",
       "       'Rising Pune Supergiants', 'Pune Warriors', 'Deccan Chargers',\n",
       "       'Kochi Tuskers Kerala'], dtype=object)"
      ]
     },
     "execution_count": 11,
     "metadata": {},
     "output_type": "execute_result"
    }
   ],
   "source": [
    "matchDF['Team1'].unique()"
   ]
  },
  {
   "cell_type": "code",
   "execution_count": 12,
   "id": "05d105b4",
   "metadata": {},
   "outputs": [
    {
     "ename": "NameError",
     "evalue": "name 'deliveryDF' is not defined",
     "output_type": "error",
     "traceback": [
      "\u001b[1;31m---------------------------------------------------------------------------\u001b[0m",
      "\u001b[1;31mNameError\u001b[0m                                 Traceback (most recent call last)",
      "\u001b[1;32m~\\AppData\\Local\\Temp/ipykernel_9696/79547725.py\u001b[0m in \u001b[0;36m<module>\u001b[1;34m\u001b[0m\n\u001b[1;32m----> 1\u001b[1;33m \u001b[0mdeliveryDF\u001b[0m\u001b[1;33m[\u001b[0m\u001b[1;34m'BattingTeam'\u001b[0m\u001b[1;33m]\u001b[0m\u001b[1;33m.\u001b[0m\u001b[0munique\u001b[0m\u001b[1;33m(\u001b[0m\u001b[1;33m)\u001b[0m\u001b[1;33m\u001b[0m\u001b[1;33m\u001b[0m\u001b[0m\n\u001b[0m",
      "\u001b[1;31mNameError\u001b[0m: name 'deliveryDF' is not defined"
     ]
    }
   ],
   "source": [
    "deliveryDF['BattingTeam'].unique()"
   ]
  },
  {
   "cell_type": "code",
   "execution_count": 13,
   "id": "f70999b8",
   "metadata": {},
   "outputs": [],
   "source": [
    "teams = [\n",
    "    'Chennai Super Kings',\n",
    "    'Delhi Capitals',\n",
    "    'Royal Challengers Bangalore',\n",
    "    'Mumbai Indians',\n",
    "    'Kolkata Knight Riders',\n",
    "    'Rajasthan Royals',\n",
    "    'Sunrisers Hyderabad',\n",
    "    'Punjab Kings',\n",
    "    'Gujarat Titans',\n",
    "    'Lucknow Super Giants']\n",
    "\n",
    "\n",
    "\n",
    "matchDF['Team1'] = matchDF['Team1'].str.replace('Delhi Daredevils','Delhi Capitals')\n",
    "matchDF['Team2'] = matchDF['Team2'].str.replace('Delhi Daredevils','Delhi Capitals')\n",
    "\n",
    "matchDF['Team1'] = matchDF['Team1'].str.replace('Deccan Chargers','Sunrisers Hyderabad')\n",
    "matchDF['Team2'] = matchDF['Team2'].str.replace('Deccan Chargers','Sunrisers Hyderabad')\n",
    "\n",
    "matchDF['Team1'] = matchDF['Team1'].str.replace('Kings XI Punjab','Punjab Kings')\n",
    "matchDF['Team2'] = matchDF['Team2'].str.replace('Kings XI Punjab','Punjab Kings')\n",
    "\n",
    "matchDF['Team1'] = matchDF['Team1'].str.replace('Gujarat Lions','Gujarat Titans')\n",
    "matchDF['Team2'] = matchDF['Team2'].str.replace('Gujarat Lions','Gujarat Titans')\n",
    "matchDF['Team1'] = matchDF['Team1'].str.replace('Pune Warriors','Gujarat Titans')\n",
    "matchDF['Team2'] = matchDF['Team2'].str.replace('Pune Warriors','Gujarat Titans')\n",
    "\n",
    "matchDF['Team1'] = matchDF['Team1'].str.replace('Rising Pune Supergiant','Lucknow Super Giants')\n",
    "matchDF['Team2'] = matchDF['Team2'].str.replace('Rising Pune Supergiant','Lucknow Super Giants')\n",
    "matchDF['Team1'] = matchDF['Team1'].str.replace('Rising Pune Supergiants','Lucknow Super Giants')\n",
    "matchDF['Team2'] = matchDF['Team2'].str.replace('Rising Pune Supergiants','Lucknow Super Giants')\n",
    "\n",
    "\n",
    "matchDF = matchDF[matchDF['Team1'].isin(teams)]\n",
    "matchDF = matchDF[matchDF['Team2'].isin(teams)]\n",
    "\n",
    "\n",
    "\n"
   ]
  },
  {
   "cell_type": "code",
   "execution_count": 14,
   "id": "0d87cb23",
   "metadata": {},
   "outputs": [
    {
     "data": {
      "text/html": [
       "<div>\n",
       "<style scoped>\n",
       "    .dataframe tbody tr th:only-of-type {\n",
       "        vertical-align: middle;\n",
       "    }\n",
       "\n",
       "    .dataframe tbody tr th {\n",
       "        vertical-align: top;\n",
       "    }\n",
       "\n",
       "    .dataframe thead th {\n",
       "        text-align: right;\n",
       "    }\n",
       "</style>\n",
       "<table border=\"1\" class=\"dataframe\">\n",
       "  <thead>\n",
       "    <tr style=\"text-align: right;\">\n",
       "      <th></th>\n",
       "      <th>ID</th>\n",
       "      <th>City</th>\n",
       "      <th>Date</th>\n",
       "      <th>Season</th>\n",
       "      <th>MatchNumber</th>\n",
       "      <th>Team1</th>\n",
       "      <th>Team2</th>\n",
       "      <th>Venue</th>\n",
       "      <th>TossWinner</th>\n",
       "      <th>TossDecision</th>\n",
       "      <th>...</th>\n",
       "      <th>WinningTeam</th>\n",
       "      <th>WonBy</th>\n",
       "      <th>Margin</th>\n",
       "      <th>method</th>\n",
       "      <th>Player_of_Match</th>\n",
       "      <th>Team1Players</th>\n",
       "      <th>Team2Players</th>\n",
       "      <th>Umpire1</th>\n",
       "      <th>Umpire2</th>\n",
       "      <th>total_run</th>\n",
       "    </tr>\n",
       "  </thead>\n",
       "  <tbody>\n",
       "    <tr>\n",
       "      <th>0</th>\n",
       "      <td>1254117</td>\n",
       "      <td>Dubai</td>\n",
       "      <td>2021-10-15</td>\n",
       "      <td>2021</td>\n",
       "      <td>Final</td>\n",
       "      <td>Chennai Super Kings</td>\n",
       "      <td>Kolkata Knight Riders</td>\n",
       "      <td>Dubai International Cricket Stadium</td>\n",
       "      <td>Kolkata Knight Riders</td>\n",
       "      <td>field</td>\n",
       "      <td>...</td>\n",
       "      <td>Chennai Super Kings</td>\n",
       "      <td>Runs</td>\n",
       "      <td>27.0</td>\n",
       "      <td>NaN</td>\n",
       "      <td>F du Plessis</td>\n",
       "      <td>['RD Gaikwad', 'F du Plessis', 'RV Uthappa', '...</td>\n",
       "      <td>['Shubman Gill', 'VR Iyer', 'N Rana', 'SP Nari...</td>\n",
       "      <td>Nitin Menon</td>\n",
       "      <td>RK Illingworth</td>\n",
       "      <td>192</td>\n",
       "    </tr>\n",
       "    <tr>\n",
       "      <th>1</th>\n",
       "      <td>1254116</td>\n",
       "      <td>Sharjah</td>\n",
       "      <td>2021-10-13</td>\n",
       "      <td>2021</td>\n",
       "      <td>Qualifier 2</td>\n",
       "      <td>Delhi Capitals</td>\n",
       "      <td>Kolkata Knight Riders</td>\n",
       "      <td>Sharjah Cricket Stadium</td>\n",
       "      <td>Kolkata Knight Riders</td>\n",
       "      <td>field</td>\n",
       "      <td>...</td>\n",
       "      <td>Kolkata Knight Riders</td>\n",
       "      <td>Wickets</td>\n",
       "      <td>3.0</td>\n",
       "      <td>NaN</td>\n",
       "      <td>VR Iyer</td>\n",
       "      <td>['PP Shaw', 'S Dhawan', 'MP Stoinis', 'SS Iyer...</td>\n",
       "      <td>['Shubman Gill', 'VR Iyer', 'N Rana', 'RA Trip...</td>\n",
       "      <td>KN Ananthapadmanabhan</td>\n",
       "      <td>MA Gough</td>\n",
       "      <td>135</td>\n",
       "    </tr>\n",
       "    <tr>\n",
       "      <th>2</th>\n",
       "      <td>1254115</td>\n",
       "      <td>Sharjah</td>\n",
       "      <td>2021-10-11</td>\n",
       "      <td>2021</td>\n",
       "      <td>Eliminator</td>\n",
       "      <td>Royal Challengers Bangalore</td>\n",
       "      <td>Kolkata Knight Riders</td>\n",
       "      <td>Sharjah Cricket Stadium</td>\n",
       "      <td>Royal Challengers Bangalore</td>\n",
       "      <td>bat</td>\n",
       "      <td>...</td>\n",
       "      <td>Kolkata Knight Riders</td>\n",
       "      <td>Wickets</td>\n",
       "      <td>4.0</td>\n",
       "      <td>NaN</td>\n",
       "      <td>SP Narine</td>\n",
       "      <td>['D Padikkal', 'V Kohli', 'KS Bharat', 'GJ Max...</td>\n",
       "      <td>['Shubman Gill', 'VR Iyer', 'RA Tripathi', 'N ...</td>\n",
       "      <td>CB Gaffaney</td>\n",
       "      <td>VK Sharma</td>\n",
       "      <td>138</td>\n",
       "    </tr>\n",
       "    <tr>\n",
       "      <th>3</th>\n",
       "      <td>1254114</td>\n",
       "      <td>Dubai</td>\n",
       "      <td>2021-10-10</td>\n",
       "      <td>2021</td>\n",
       "      <td>Qualifier 1</td>\n",
       "      <td>Delhi Capitals</td>\n",
       "      <td>Chennai Super Kings</td>\n",
       "      <td>Dubai International Cricket Stadium</td>\n",
       "      <td>Chennai Super Kings</td>\n",
       "      <td>field</td>\n",
       "      <td>...</td>\n",
       "      <td>Chennai Super Kings</td>\n",
       "      <td>Wickets</td>\n",
       "      <td>4.0</td>\n",
       "      <td>NaN</td>\n",
       "      <td>RD Gaikwad</td>\n",
       "      <td>['PP Shaw', 'S Dhawan', 'SS Iyer', 'AR Patel',...</td>\n",
       "      <td>['RD Gaikwad', 'F du Plessis', 'RV Uthappa', '...</td>\n",
       "      <td>Nitin Menon</td>\n",
       "      <td>RK Illingworth</td>\n",
       "      <td>172</td>\n",
       "    </tr>\n",
       "    <tr>\n",
       "      <th>4</th>\n",
       "      <td>1254088</td>\n",
       "      <td>Abu Dhabi</td>\n",
       "      <td>2021-10-08</td>\n",
       "      <td>2021</td>\n",
       "      <td>55</td>\n",
       "      <td>Mumbai Indians</td>\n",
       "      <td>Sunrisers Hyderabad</td>\n",
       "      <td>Zayed Cricket Stadium, Abu Dhabi</td>\n",
       "      <td>Mumbai Indians</td>\n",
       "      <td>bat</td>\n",
       "      <td>...</td>\n",
       "      <td>Mumbai Indians</td>\n",
       "      <td>Runs</td>\n",
       "      <td>42.0</td>\n",
       "      <td>NaN</td>\n",
       "      <td>Ishan Kishan</td>\n",
       "      <td>['RG Sharma', 'Ishan Kishan', 'HH Pandya', 'KA...</td>\n",
       "      <td>['JJ Roy', 'Abhishek Sharma', 'MK Pandey', 'Mo...</td>\n",
       "      <td>Tapan Sharma</td>\n",
       "      <td>VK Sharma</td>\n",
       "      <td>235</td>\n",
       "    </tr>\n",
       "  </tbody>\n",
       "</table>\n",
       "<p>5 rows × 21 columns</p>\n",
       "</div>"
      ],
      "text/plain": [
       "        ID       City        Date Season  MatchNumber  \\\n",
       "0  1254117      Dubai  2021-10-15   2021        Final   \n",
       "1  1254116    Sharjah  2021-10-13   2021  Qualifier 2   \n",
       "2  1254115    Sharjah  2021-10-11   2021   Eliminator   \n",
       "3  1254114      Dubai  2021-10-10   2021  Qualifier 1   \n",
       "4  1254088  Abu Dhabi  2021-10-08   2021           55   \n",
       "\n",
       "                         Team1                  Team2  \\\n",
       "0          Chennai Super Kings  Kolkata Knight Riders   \n",
       "1               Delhi Capitals  Kolkata Knight Riders   \n",
       "2  Royal Challengers Bangalore  Kolkata Knight Riders   \n",
       "3               Delhi Capitals    Chennai Super Kings   \n",
       "4               Mumbai Indians    Sunrisers Hyderabad   \n",
       "\n",
       "                                 Venue                   TossWinner  \\\n",
       "0  Dubai International Cricket Stadium        Kolkata Knight Riders   \n",
       "1              Sharjah Cricket Stadium        Kolkata Knight Riders   \n",
       "2              Sharjah Cricket Stadium  Royal Challengers Bangalore   \n",
       "3  Dubai International Cricket Stadium          Chennai Super Kings   \n",
       "4     Zayed Cricket Stadium, Abu Dhabi               Mumbai Indians   \n",
       "\n",
       "  TossDecision  ...            WinningTeam    WonBy Margin  method  \\\n",
       "0        field  ...    Chennai Super Kings     Runs   27.0     NaN   \n",
       "1        field  ...  Kolkata Knight Riders  Wickets    3.0     NaN   \n",
       "2          bat  ...  Kolkata Knight Riders  Wickets    4.0     NaN   \n",
       "3        field  ...    Chennai Super Kings  Wickets    4.0     NaN   \n",
       "4          bat  ...         Mumbai Indians     Runs   42.0     NaN   \n",
       "\n",
       "  Player_of_Match                                       Team1Players  \\\n",
       "0    F du Plessis  ['RD Gaikwad', 'F du Plessis', 'RV Uthappa', '...   \n",
       "1         VR Iyer  ['PP Shaw', 'S Dhawan', 'MP Stoinis', 'SS Iyer...   \n",
       "2       SP Narine  ['D Padikkal', 'V Kohli', 'KS Bharat', 'GJ Max...   \n",
       "3      RD Gaikwad  ['PP Shaw', 'S Dhawan', 'SS Iyer', 'AR Patel',...   \n",
       "4    Ishan Kishan  ['RG Sharma', 'Ishan Kishan', 'HH Pandya', 'KA...   \n",
       "\n",
       "                                        Team2Players                Umpire1  \\\n",
       "0  ['Shubman Gill', 'VR Iyer', 'N Rana', 'SP Nari...            Nitin Menon   \n",
       "1  ['Shubman Gill', 'VR Iyer', 'N Rana', 'RA Trip...  KN Ananthapadmanabhan   \n",
       "2  ['Shubman Gill', 'VR Iyer', 'RA Tripathi', 'N ...            CB Gaffaney   \n",
       "3  ['RD Gaikwad', 'F du Plessis', 'RV Uthappa', '...            Nitin Menon   \n",
       "4  ['JJ Roy', 'Abhishek Sharma', 'MK Pandey', 'Mo...           Tapan Sharma   \n",
       "\n",
       "          Umpire2 total_run  \n",
       "0  RK Illingworth       192  \n",
       "1        MA Gough       135  \n",
       "2       VK Sharma       138  \n",
       "3  RK Illingworth       172  \n",
       "4       VK Sharma       235  \n",
       "\n",
       "[5 rows x 21 columns]"
      ]
     },
     "execution_count": 14,
     "metadata": {},
     "output_type": "execute_result"
    }
   ],
   "source": [
    "matchDF.head()"
   ]
  },
  {
   "cell_type": "code",
   "execution_count": 38,
   "id": "2384206c",
   "metadata": {},
   "outputs": [
    {
     "data": {
      "text/plain": [
       "(833, 7)"
      ]
     },
     "execution_count": 38,
     "metadata": {},
     "output_type": "execute_result"
    }
   ],
   "source": [
    "matchDF.shape"
   ]
  },
  {
   "cell_type": "code",
   "execution_count": 39,
   "id": "5f34ea20",
   "metadata": {},
   "outputs": [
    {
     "data": {
      "text/plain": [
       "array(['Dubai', 'Sharjah', 'Abu Dhabi', 'Ahmedabad', 'Delhi', 'Chennai',\n",
       "       'Mumbai', nan, 'Hyderabad', 'Visakhapatnam', 'Chandigarh',\n",
       "       'Bengaluru', 'Kolkata', 'Jaipur', 'Pune', 'Indore', 'Bangalore',\n",
       "       'Kanpur', 'Rajkot', 'Raipur', 'Ranchi', 'Cuttack', 'Dharamsala',\n",
       "       'Nagpur', 'Johannesburg', 'Centurion', 'Durban', 'Bloemfontein',\n",
       "       'Port Elizabeth', 'Kimberley', 'East London', 'Cape Town'],\n",
       "      dtype=object)"
      ]
     },
     "execution_count": 39,
     "metadata": {},
     "output_type": "execute_result"
    }
   ],
   "source": [
    "matchDF['City'].unique()"
   ]
  },
  {
   "cell_type": "code",
   "execution_count": 40,
   "id": "0c4b6cf2",
   "metadata": {},
   "outputs": [
    {
     "data": {
      "text/plain": [
       "array(['Dubai International Cricket Stadium', 'Sharjah Cricket Stadium',\n",
       "       'Zayed Cricket Stadium, Abu Dhabi',\n",
       "       'Narendra Modi Stadium, Ahmedabad', 'Arun Jaitley Stadium, Delhi',\n",
       "       'MA Chidambaram Stadium, Chepauk, Chennai',\n",
       "       'Wankhede Stadium, Mumbai', 'Sheikh Zayed Stadium',\n",
       "       'Rajiv Gandhi International Stadium',\n",
       "       'Dr. Y.S. Rajasekhara Reddy ACA-VDCA Cricket Stadium',\n",
       "       'MA Chidambaram Stadium', 'Wankhede Stadium',\n",
       "       'Punjab Cricket Association IS Bindra Stadium',\n",
       "       'M.Chinnaswamy Stadium', 'Arun Jaitley Stadium', 'Eden Gardens',\n",
       "       'Sawai Mansingh Stadium',\n",
       "       'Maharashtra Cricket Association Stadium',\n",
       "       'Holkar Cricket Stadium',\n",
       "       'Rajiv Gandhi International Stadium, Uppal',\n",
       "       'M Chinnaswamy Stadium', 'Feroz Shah Kotla', 'Green Park',\n",
       "       'Punjab Cricket Association IS Bindra Stadium, Mohali',\n",
       "       'Saurashtra Cricket Association Stadium',\n",
       "       'Shaheed Veer Narayan Singh International Stadium',\n",
       "       'JSCA International Stadium Complex', 'Brabourne Stadium',\n",
       "       'Punjab Cricket Association Stadium, Mohali',\n",
       "       'MA Chidambaram Stadium, Chepauk', 'Sardar Patel Stadium, Motera',\n",
       "       'Barabati Stadium', 'Subrata Roy Sahara Stadium',\n",
       "       'Himachal Pradesh Cricket Association Stadium',\n",
       "       'Dr DY Patil Sports Academy',\n",
       "       'Vidarbha Cricket Association Stadium, Jamtha',\n",
       "       'Brabourne Stadium, Mumbai', 'New Wanderers Stadium',\n",
       "       'SuperSport Park', 'Kingsmead', 'OUTsurance Oval',\n",
       "       \"St George's Park\", 'De Beers Diamond Oval', 'Buffalo Park',\n",
       "       'Newlands'], dtype=object)"
      ]
     },
     "execution_count": 40,
     "metadata": {},
     "output_type": "execute_result"
    }
   ],
   "source": [
    "matchDF['Team1'].unique()\n",
    "matchDF['Venue'].unique()"
   ]
  },
  {
   "cell_type": "code",
   "execution_count": 41,
   "id": "741d55e6",
   "metadata": {},
   "outputs": [
    {
     "ename": "AttributeError",
     "evalue": "'DataFrame' object has no attribute 'method'",
     "output_type": "error",
     "traceback": [
      "\u001b[1;31m---------------------------------------------------------------------------\u001b[0m",
      "\u001b[1;31mAttributeError\u001b[0m                            Traceback (most recent call last)",
      "\u001b[1;32m~\\AppData\\Local\\Temp/ipykernel_9696/3261909078.py\u001b[0m in \u001b[0;36m<module>\u001b[1;34m\u001b[0m\n\u001b[1;32m----> 1\u001b[1;33m \u001b[0mmatchDF\u001b[0m \u001b[1;33m=\u001b[0m \u001b[0mmatchDF\u001b[0m\u001b[1;33m[\u001b[0m\u001b[0mmatchDF\u001b[0m\u001b[1;33m.\u001b[0m\u001b[0mmethod\u001b[0m \u001b[1;33m!=\u001b[0m \u001b[1;34m'D/L'\u001b[0m\u001b[1;33m]\u001b[0m\u001b[1;33m\u001b[0m\u001b[1;33m\u001b[0m\u001b[0m\n\u001b[0m",
      "\u001b[1;32m~\\anaconda3\\lib\\site-packages\\pandas\\core\\generic.py\u001b[0m in \u001b[0;36m__getattr__\u001b[1;34m(self, name)\u001b[0m\n\u001b[0;32m   5485\u001b[0m         ):\n\u001b[0;32m   5486\u001b[0m             \u001b[1;32mreturn\u001b[0m \u001b[0mself\u001b[0m\u001b[1;33m[\u001b[0m\u001b[0mname\u001b[0m\u001b[1;33m]\u001b[0m\u001b[1;33m\u001b[0m\u001b[1;33m\u001b[0m\u001b[0m\n\u001b[1;32m-> 5487\u001b[1;33m         \u001b[1;32mreturn\u001b[0m \u001b[0mobject\u001b[0m\u001b[1;33m.\u001b[0m\u001b[0m__getattribute__\u001b[0m\u001b[1;33m(\u001b[0m\u001b[0mself\u001b[0m\u001b[1;33m,\u001b[0m \u001b[0mname\u001b[0m\u001b[1;33m)\u001b[0m\u001b[1;33m\u001b[0m\u001b[1;33m\u001b[0m\u001b[0m\n\u001b[0m\u001b[0;32m   5488\u001b[0m \u001b[1;33m\u001b[0m\u001b[0m\n\u001b[0;32m   5489\u001b[0m     \u001b[1;32mdef\u001b[0m \u001b[0m__setattr__\u001b[0m\u001b[1;33m(\u001b[0m\u001b[0mself\u001b[0m\u001b[1;33m,\u001b[0m \u001b[0mname\u001b[0m\u001b[1;33m:\u001b[0m \u001b[0mstr\u001b[0m\u001b[1;33m,\u001b[0m \u001b[0mvalue\u001b[0m\u001b[1;33m)\u001b[0m \u001b[1;33m->\u001b[0m \u001b[1;32mNone\u001b[0m\u001b[1;33m:\u001b[0m\u001b[1;33m\u001b[0m\u001b[1;33m\u001b[0m\u001b[0m\n",
      "\u001b[1;31mAttributeError\u001b[0m: 'DataFrame' object has no attribute 'method'"
     ]
    }
   ],
   "source": [
    "matchDF = matchDF[matchDF.method != 'D/L']"
   ]
  },
  {
   "cell_type": "code",
   "execution_count": 42,
   "id": "9142a077",
   "metadata": {},
   "outputs": [],
   "source": [
    "matchDF = matchDF[['ID','City','WinningTeam','total_run', 'Venue','Team1', 'Team2']]"
   ]
  },
  {
   "cell_type": "code",
   "execution_count": 43,
   "id": "9823eab3",
   "metadata": {},
   "outputs": [],
   "source": [
    "deliveryDF = matchDF.merge(delivery, on = \"ID\")"
   ]
  },
  {
   "cell_type": "code",
   "execution_count": 44,
   "id": "c93a1b37",
   "metadata": {},
   "outputs": [],
   "source": [
    "deliveryDF = deliveryDF[deliveryDF['innings'] == 2]"
   ]
  },
  {
   "cell_type": "code",
   "execution_count": 45,
   "id": "992ec936",
   "metadata": {},
   "outputs": [],
   "source": [
    "deliveryDF['current_score'] = deliveryDF.groupby('ID').cumsum()['total_run_y']"
   ]
  },
  {
   "cell_type": "code",
   "execution_count": 46,
   "id": "67011edb",
   "metadata": {},
   "outputs": [],
   "source": [
    "deliveryDF['runs_left'] = deliveryDF['total_run_x'] - deliveryDF['current_score']"
   ]
  },
  {
   "cell_type": "code",
   "execution_count": 47,
   "id": "ba7916dd",
   "metadata": {},
   "outputs": [],
   "source": [
    "deliveryDF['balls_left'] = 120 - (deliveryDF['overs']*6 + deliveryDF['ballnumber'])"
   ]
  },
  {
   "cell_type": "code",
   "execution_count": 48,
   "id": "71bfd304",
   "metadata": {},
   "outputs": [],
   "source": [
    "deliveryDF['wickets_left'] = 10 - deliveryDF.groupby('ID').cumsum()['isWicketDelivery'].values"
   ]
  },
  {
   "cell_type": "code",
   "execution_count": 49,
   "id": "52119db7",
   "metadata": {},
   "outputs": [],
   "source": [
    "#crr and rrr"
   ]
  },
  {
   "cell_type": "code",
   "execution_count": 50,
   "id": "06ad6fef",
   "metadata": {},
   "outputs": [],
   "source": [
    "deliveryDF['crr'] = (deliveryDF['current_score']*6) / (120 - deliveryDF['balls_left'])"
   ]
  },
  {
   "cell_type": "code",
   "execution_count": 51,
   "id": "61fdfd5a",
   "metadata": {},
   "outputs": [],
   "source": [
    "deliveryDF['rrr'] = (deliveryDF['runs_left']*6) / deliveryDF['balls_left']"
   ]
  },
  {
   "cell_type": "code",
   "execution_count": 52,
   "id": "9fe1efed",
   "metadata": {},
   "outputs": [],
   "source": [
    "#results in 0 & 1"
   ]
  },
  {
   "cell_type": "code",
   "execution_count": 53,
   "id": "71a3f39b",
   "metadata": {},
   "outputs": [],
   "source": [
    "def result(row):\n",
    "    return 1 if row['BattingTeam'] == row['WinningTeam'] else 0"
   ]
  },
  {
   "cell_type": "code",
   "execution_count": 54,
   "id": "8a336f66",
   "metadata": {},
   "outputs": [],
   "source": [
    "deliveryDF['results'] = deliveryDF.apply(result, axis = 1)"
   ]
  },
  {
   "cell_type": "code",
   "execution_count": 55,
   "id": "fee70eae",
   "metadata": {},
   "outputs": [],
   "source": [
    "#removed balls left as 0, -1, -2, -3\n",
    "deliveryDF = deliveryDF[deliveryDF.balls_left != 0]\n",
    "deliveryDF = deliveryDF[deliveryDF.balls_left != -1]\n",
    "deliveryDF = deliveryDF[deliveryDF.balls_left != -2]\n",
    "deliveryDF = deliveryDF[deliveryDF.balls_left != -3]\n"
   ]
  },
  {
   "cell_type": "code",
   "execution_count": 56,
   "id": "32d39056",
   "metadata": {},
   "outputs": [],
   "source": [
    "finalDF = deliveryDF[['BattingTeam','Team1', 'Team2', 'City', 'Venue',\n",
    "            'runs_left', 'balls_left','wickets_left',\n",
    "            'total_run_x','crr','rrr','results']]"
   ]
  },
  {
   "cell_type": "code",
   "execution_count": 57,
   "id": "a192c3a7",
   "metadata": {},
   "outputs": [],
   "source": [
    "def BowlingTeamFind(row):\n",
    "    if row['Team1'] == row['BattingTeam']:\n",
    "        row['BowlingTeam'] = row['Team2']\n",
    "        return row['BowlingTeam']\n",
    "    else:\n",
    "        row['BowlingTeam'] = row['Team1']\n",
    "        return row['BowlingTeam']"
   ]
  },
  {
   "cell_type": "code",
   "execution_count": 58,
   "id": "688b60cd",
   "metadata": {
    "scrolled": false
   },
   "outputs": [
    {
     "name": "stderr",
     "output_type": "stream",
     "text": [
      "C:\\Users\\ASUS\\AppData\\Local\\Temp/ipykernel_9696/857192546.py:1: SettingWithCopyWarning: \n",
      "A value is trying to be set on a copy of a slice from a DataFrame.\n",
      "Try using .loc[row_indexer,col_indexer] = value instead\n",
      "\n",
      "See the caveats in the documentation: https://pandas.pydata.org/pandas-docs/stable/user_guide/indexing.html#returning-a-view-versus-a-copy\n",
      "  finalDF['BowlingTeam'] = finalDF.apply(BowlingTeamFind, axis = 1)\n"
     ]
    }
   ],
   "source": [
    "finalDF['BowlingTeam'] = finalDF.apply(BowlingTeamFind, axis = 1)"
   ]
  },
  {
   "cell_type": "code",
   "execution_count": 59,
   "id": "4f236992",
   "metadata": {},
   "outputs": [
    {
     "data": {
      "text/plain": [
       "array(['Chennai Super Kings', 'Delhi Capitals',\n",
       "       'Royal Challengers Bangalore', 'Mumbai Indians',\n",
       "       'Kolkata Knight Riders', 'Sunrisers Hyderabad', 'Rajasthan Royals',\n",
       "       'Punjab Kings', 'Lucknow Super Giants', 'Gujarat Titans'],\n",
       "      dtype=object)"
      ]
     },
     "execution_count": 59,
     "metadata": {},
     "output_type": "execute_result"
    }
   ],
   "source": [
    "finalDF['BowlingTeam'].unique()"
   ]
  },
  {
   "cell_type": "code",
   "execution_count": 60,
   "id": "fdb66f91",
   "metadata": {
    "scrolled": true
   },
   "outputs": [
    {
     "name": "stderr",
     "output_type": "stream",
     "text": [
      "C:\\Users\\ASUS\\AppData\\Local\\Temp/ipykernel_9696/1459281845.py:14: SettingWithCopyWarning: \n",
      "A value is trying to be set on a copy of a slice from a DataFrame.\n",
      "Try using .loc[row_indexer,col_indexer] = value instead\n",
      "\n",
      "See the caveats in the documentation: https://pandas.pydata.org/pandas-docs/stable/user_guide/indexing.html#returning-a-view-versus-a-copy\n",
      "  finalDF['BowlingTeam'] = finalDF['BowlingTeam'].str.replace('Delhi Daredevils','Delhi Capitals')\n",
      "C:\\Users\\ASUS\\AppData\\Local\\Temp/ipykernel_9696/1459281845.py:15: SettingWithCopyWarning: \n",
      "A value is trying to be set on a copy of a slice from a DataFrame.\n",
      "Try using .loc[row_indexer,col_indexer] = value instead\n",
      "\n",
      "See the caveats in the documentation: https://pandas.pydata.org/pandas-docs/stable/user_guide/indexing.html#returning-a-view-versus-a-copy\n",
      "  finalDF['BowlingTeam'] = finalDF['BowlingTeam'].str.replace('Deccan Chargers','Sunrisers Hyderabad')\n",
      "C:\\Users\\ASUS\\AppData\\Local\\Temp/ipykernel_9696/1459281845.py:16: SettingWithCopyWarning: \n",
      "A value is trying to be set on a copy of a slice from a DataFrame.\n",
      "Try using .loc[row_indexer,col_indexer] = value instead\n",
      "\n",
      "See the caveats in the documentation: https://pandas.pydata.org/pandas-docs/stable/user_guide/indexing.html#returning-a-view-versus-a-copy\n",
      "  finalDF['BowlingTeam'] = finalDF['BowlingTeam'].str.replace('Kings XI Punjab','Punjab Kings')\n",
      "C:\\Users\\ASUS\\AppData\\Local\\Temp/ipykernel_9696/1459281845.py:17: SettingWithCopyWarning: \n",
      "A value is trying to be set on a copy of a slice from a DataFrame.\n",
      "Try using .loc[row_indexer,col_indexer] = value instead\n",
      "\n",
      "See the caveats in the documentation: https://pandas.pydata.org/pandas-docs/stable/user_guide/indexing.html#returning-a-view-versus-a-copy\n",
      "  finalDF['BowlingTeam'] = finalDF['BowlingTeam'].str.replace('Gujarat Lions','Gujarat Titans')\n",
      "C:\\Users\\ASUS\\AppData\\Local\\Temp/ipykernel_9696/1459281845.py:18: SettingWithCopyWarning: \n",
      "A value is trying to be set on a copy of a slice from a DataFrame.\n",
      "Try using .loc[row_indexer,col_indexer] = value instead\n",
      "\n",
      "See the caveats in the documentation: https://pandas.pydata.org/pandas-docs/stable/user_guide/indexing.html#returning-a-view-versus-a-copy\n",
      "  finalDF['BowlingTeam'] = finalDF['BowlingTeam'].str.replace('Pune Warriors','Gujarat Titans')\n",
      "C:\\Users\\ASUS\\AppData\\Local\\Temp/ipykernel_9696/1459281845.py:19: SettingWithCopyWarning: \n",
      "A value is trying to be set on a copy of a slice from a DataFrame.\n",
      "Try using .loc[row_indexer,col_indexer] = value instead\n",
      "\n",
      "See the caveats in the documentation: https://pandas.pydata.org/pandas-docs/stable/user_guide/indexing.html#returning-a-view-versus-a-copy\n",
      "  finalDF['BowlingTeam'] = finalDF['BowlingTeam'].str.replace('Rising Pune Supergiant','Lucknow Super Giants')\n",
      "C:\\Users\\ASUS\\AppData\\Local\\Temp/ipykernel_9696/1459281845.py:20: SettingWithCopyWarning: \n",
      "A value is trying to be set on a copy of a slice from a DataFrame.\n",
      "Try using .loc[row_indexer,col_indexer] = value instead\n",
      "\n",
      "See the caveats in the documentation: https://pandas.pydata.org/pandas-docs/stable/user_guide/indexing.html#returning-a-view-versus-a-copy\n",
      "  finalDF['BowlingTeam'] = finalDF['BowlingTeam'].str.replace('Rising Pune Supergiants','Lucknow Super Giants')\n"
     ]
    }
   ],
   "source": [
    "teams = [\n",
    "    'Chennai Super Kings',\n",
    "    'Delhi Capitals',\n",
    "    'Royal Challengers Bangalore',\n",
    "    'Mumbai Indians',\n",
    "    'Kolkata Knight Riders',\n",
    "    'Rajasthan Royals',\n",
    "    'Sunrisers Hyderabad',\n",
    "    'Punjab Kings',\n",
    "    'Gujarat Titans',\n",
    "    'Lucknow Super Giants']\n",
    "\n",
    "\n",
    "finalDF['BowlingTeam'] = finalDF['BowlingTeam'].str.replace('Delhi Daredevils','Delhi Capitals')\n",
    "finalDF['BowlingTeam'] = finalDF['BowlingTeam'].str.replace('Deccan Chargers','Sunrisers Hyderabad')\n",
    "finalDF['BowlingTeam'] = finalDF['BowlingTeam'].str.replace('Kings XI Punjab','Punjab Kings')\n",
    "finalDF['BowlingTeam'] = finalDF['BowlingTeam'].str.replace('Gujarat Lions','Gujarat Titans')\n",
    "finalDF['BowlingTeam'] = finalDF['BowlingTeam'].str.replace('Pune Warriors','Gujarat Titans')\n",
    "finalDF['BowlingTeam'] = finalDF['BowlingTeam'].str.replace('Rising Pune Supergiant','Lucknow Super Giants')\n",
    "finalDF['BowlingTeam'] = finalDF['BowlingTeam'].str.replace('Rising Pune Supergiants','Lucknow Super Giants')\n",
    "\n",
    "finalDF = finalDF[finalDF['BowlingTeam'].isin(teams)]"
   ]
  },
  {
   "cell_type": "code",
   "execution_count": 78,
   "id": "1459ee44",
   "metadata": {},
   "outputs": [
    {
     "data": {
      "text/plain": [
       "array(['Rajiv Gandhi International Stadium, Uppal',\n",
       "       'Sheikh Zayed Stadium',\n",
       "       'Punjab Cricket Association Stadium, Mohali', 'Wankhede Stadium',\n",
       "       'M Chinnaswamy Stadium', 'Feroz Shah Kotla', 'Kingsmead',\n",
       "       'MA Chidambaram Stadium, Chepauk', 'MA Chidambaram Stadium',\n",
       "       'Himachal Pradesh Cricket Association Stadium', 'Eden Gardens',\n",
       "       'Sardar Patel Stadium, Motera', 'Sawai Mansingh Stadium',\n",
       "       'Barabati Stadium', 'Dr DY Patil Sports Academy',\n",
       "       'Arun Jaitley Stadium', \"St George's Park\", 'Newlands',\n",
       "       'Sharjah Cricket Stadium', 'Narendra Modi Stadium, Ahmedabad',\n",
       "       'Subrata Roy Sahara Stadium', 'Buffalo Park',\n",
       "       'Dr. Y.S. Rajasekhara Reddy ACA-VDCA Cricket Stadium',\n",
       "       'Maharashtra Cricket Association Stadium',\n",
       "       'Saurashtra Cricket Association Stadium',\n",
       "       'MA Chidambaram Stadium, Chepauk, Chennai',\n",
       "       'Zayed Cricket Stadium, Abu Dhabi', 'M.Chinnaswamy Stadium',\n",
       "       'Wankhede Stadium, Mumbai', 'SuperSport Park',\n",
       "       'Brabourne Stadium, Mumbai', 'Rajiv Gandhi International Stadium',\n",
       "       'JSCA International Stadium Complex',\n",
       "       'Punjab Cricket Association IS Bindra Stadium',\n",
       "       'Punjab Cricket Association IS Bindra Stadium, Mohali',\n",
       "       'New Wanderers Stadium', 'Arun Jaitley Stadium, Delhi',\n",
       "       'Dubai International Cricket Stadium', 'De Beers Diamond Oval',\n",
       "       'Brabourne Stadium', 'OUTsurance Oval',\n",
       "       'Vidarbha Cricket Association Stadium, Jamtha',\n",
       "       'Shaheed Veer Narayan Singh International Stadium',\n",
       "       'Holkar Cricket Stadium', 'Green Park'], dtype=object)"
      ]
     },
     "execution_count": 78,
     "metadata": {},
     "output_type": "execute_result"
    }
   ],
   "source": [
    "finalDF['Venue'].unique()"
   ]
  },
  {
   "cell_type": "code",
   "execution_count": 79,
   "id": "3a75448f",
   "metadata": {},
   "outputs": [],
   "source": [
    "finalDF['Venue'] = finalDF['Venue'].str.replace('Wankhede Stadium','Wankhede Stadium, Mumbai')\n",
    "finalDF['Venue'] = finalDF['Venue'].str.replace('Brabourne Stadium','Brabourne Stadium, Mumbai')"
   ]
  },
  {
   "cell_type": "code",
   "execution_count": 61,
   "id": "50c25f88",
   "metadata": {},
   "outputs": [],
   "source": [
    "finalDF = finalDF[['BattingTeam','BowlingTeam','City', 'Venue',\n",
    "            'runs_left', 'balls_left','wickets_left',\n",
    "            'total_run_x','crr','rrr','results']]"
   ]
  },
  {
   "cell_type": "code",
   "execution_count": 62,
   "id": "fbfe2589",
   "metadata": {},
   "outputs": [],
   "source": [
    "finalDF = finalDF.sample(finalDF.shape[0])"
   ]
  },
  {
   "cell_type": "code",
   "execution_count": 63,
   "id": "955f1d70",
   "metadata": {
    "scrolled": true
   },
   "outputs": [
    {
     "data": {
      "text/html": [
       "<div>\n",
       "<style scoped>\n",
       "    .dataframe tbody tr th:only-of-type {\n",
       "        vertical-align: middle;\n",
       "    }\n",
       "\n",
       "    .dataframe tbody tr th {\n",
       "        vertical-align: top;\n",
       "    }\n",
       "\n",
       "    .dataframe thead th {\n",
       "        text-align: right;\n",
       "    }\n",
       "</style>\n",
       "<table border=\"1\" class=\"dataframe\">\n",
       "  <thead>\n",
       "    <tr style=\"text-align: right;\">\n",
       "      <th></th>\n",
       "      <th>BattingTeam</th>\n",
       "      <th>BowlingTeam</th>\n",
       "      <th>City</th>\n",
       "      <th>Venue</th>\n",
       "      <th>runs_left</th>\n",
       "      <th>balls_left</th>\n",
       "      <th>wickets_left</th>\n",
       "      <th>total_run_x</th>\n",
       "      <th>crr</th>\n",
       "      <th>rrr</th>\n",
       "      <th>results</th>\n",
       "    </tr>\n",
       "  </thead>\n",
       "  <tbody>\n",
       "    <tr>\n",
       "      <th>43769</th>\n",
       "      <td>Kolkata Knight Riders</td>\n",
       "      <td>Sunrisers Hyderabad</td>\n",
       "      <td>Kolkata</td>\n",
       "      <td>Eden Gardens</td>\n",
       "      <td>29</td>\n",
       "      <td>12</td>\n",
       "      <td>4</td>\n",
       "      <td>174</td>\n",
       "      <td>8.055556</td>\n",
       "      <td>14.5</td>\n",
       "      <td>0</td>\n",
       "    </tr>\n",
       "  </tbody>\n",
       "</table>\n",
       "</div>"
      ],
      "text/plain": [
       "                 BattingTeam          BowlingTeam     City         Venue  \\\n",
       "43769  Kolkata Knight Riders  Sunrisers Hyderabad  Kolkata  Eden Gardens   \n",
       "\n",
       "       runs_left  balls_left  wickets_left  total_run_x       crr   rrr  \\\n",
       "43769         29          12             4          174  8.055556  14.5   \n",
       "\n",
       "       results  \n",
       "43769        0  "
      ]
     },
     "execution_count": 63,
     "metadata": {},
     "output_type": "execute_result"
    }
   ],
   "source": [
    "finalDF.sample()"
   ]
  },
  {
   "cell_type": "code",
   "execution_count": 64,
   "id": "c87e4897",
   "metadata": {},
   "outputs": [],
   "source": [
    "# finalDF.isnull().sum()"
   ]
  },
  {
   "cell_type": "code",
   "execution_count": 65,
   "id": "5c540b27",
   "metadata": {},
   "outputs": [],
   "source": [
    "finalDF.dropna(inplace = True)"
   ]
  },
  {
   "cell_type": "code",
   "execution_count": 66,
   "id": "1624293a",
   "metadata": {},
   "outputs": [],
   "source": [
    "X = finalDF.iloc[:,:-1]\n",
    "y = finalDF.iloc[:,-1]\n",
    "\n",
    "from sklearn.model_selection import train_test_split\n",
    "X_train, X_test, y_train, y_test = train_test_split(X,y, test_size = 0.2, random_state = 1)"
   ]
  },
  {
   "cell_type": "code",
   "execution_count": 67,
   "id": "3812e2c9",
   "metadata": {},
   "outputs": [],
   "source": [
    "#converting string into usable format using onehotencoding"
   ]
  },
  {
   "cell_type": "code",
   "execution_count": 68,
   "id": "ae5d1647",
   "metadata": {},
   "outputs": [],
   "source": [
    "from sklearn.compose import ColumnTransformer\n",
    "from sklearn.preprocessing import OneHotEncoder\n",
    "\n",
    "\n",
    "trf = ColumnTransformer([('trf', OneHotEncoder(sparse = False, drop = 'first'),\n",
    "                          ['BattingTeam','BowlingTeam','City', 'Venue'])],\n",
    "                        remainder = 'passthrough')"
   ]
  },
  {
   "cell_type": "code",
   "execution_count": 69,
   "id": "3e253e14",
   "metadata": {},
   "outputs": [],
   "source": [
    "from sklearn.linear_model import LogisticRegression\n",
    "#from sklearn.ensemble import RandomForestClassifier # trying randomforest giving 99% accuracy.... LMAO\n",
    "from sklearn.pipeline import Pipeline"
   ]
  },
  {
   "cell_type": "code",
   "execution_count": 70,
   "id": "33d2160d",
   "metadata": {},
   "outputs": [],
   "source": [
    "pipe = Pipeline(steps = [('step1', trf), ('step2', LogisticRegression(solver = 'liblinear'))])"
   ]
  },
  {
   "cell_type": "code",
   "execution_count": 71,
   "id": "93946d8b",
   "metadata": {},
   "outputs": [
    {
     "data": {
      "text/plain": [
       "Pipeline(steps=[('step1',\n",
       "                 ColumnTransformer(remainder='passthrough',\n",
       "                                   transformers=[('trf',\n",
       "                                                  OneHotEncoder(drop='first',\n",
       "                                                                sparse=False),\n",
       "                                                  ['BattingTeam', 'BowlingTeam',\n",
       "                                                   'City', 'Venue'])])),\n",
       "                ('step2', LogisticRegression(solver='liblinear'))])"
      ]
     },
     "execution_count": 71,
     "metadata": {},
     "output_type": "execute_result"
    }
   ],
   "source": [
    "pipe.fit(X_train,y_train)"
   ]
  },
  {
   "cell_type": "code",
   "execution_count": 72,
   "id": "a8ffbe80",
   "metadata": {},
   "outputs": [],
   "source": [
    "y_pred = pipe.predict(X_test)"
   ]
  },
  {
   "cell_type": "code",
   "execution_count": 73,
   "id": "b060f045",
   "metadata": {},
   "outputs": [
    {
     "data": {
      "text/plain": [
       "0.8181717143651014"
      ]
     },
     "execution_count": 73,
     "metadata": {},
     "output_type": "execute_result"
    }
   ],
   "source": [
    "from sklearn.metrics import accuracy_score\n",
    "accuracy_score(y_test,y_pred)"
   ]
  },
  {
   "cell_type": "code",
   "execution_count": null,
   "id": "9c7ae980",
   "metadata": {},
   "outputs": [],
   "source": []
  },
  {
   "cell_type": "code",
   "execution_count": null,
   "id": "3d790df3",
   "metadata": {},
   "outputs": [],
   "source": []
  },
  {
   "cell_type": "code",
   "execution_count": 97,
   "id": "c0fb5a1f",
   "metadata": {},
   "outputs": [],
   "source": [
    "#analysing a match situation:"
   ]
  },
  {
   "cell_type": "code",
   "execution_count": 113,
   "id": "98e4d43b",
   "metadata": {},
   "outputs": [],
   "source": [
    "# def matchProgress(x_df,matchID,pipe):\n",
    "#     match = x_df[x_df['ID'] == matchID]\n",
    "#     match = match[(match['ballnumber'] == 6)]\n",
    "#     temp_df = match[['BattingTeam','BowlingTeam','City', 'Venue',\n",
    "#             'runs_left', 'balls_left','wickets_left',\n",
    "#             'total_run_x','crr','rrr']]\n",
    "#     temp_df = temp_df[temp_df['balls_left'] != 0]\n",
    "#     result = pipe.predict_proba(temp_df)\n",
    "#     temp_df['lose'] = np.round(result.T[0]*100, 1)\n",
    "#     temp_df['win'] = np.round(result.T[1]*100, 1)\n",
    "#     temp_df['end_of_over'] = range(1, temp_df.shape[0] + 1)\n",
    "    \n",
    "#     target = temp_df['total_run_x'].values[0]\n",
    "#     runs = list(temp_df['runs_left'].values)\n",
    "#     new_runs = runs[:]\n",
    "#     runs.insert(0,target)\n",
    "#     temp_df['runs_after_over'] = np.array(runs)[:-1] - np.array(new_runs)\n",
    "#     wickets = list(temp_df['wickets_left'].values)\n",
    "#     new_wickets = wickets[:]\n",
    "#     new_wickets.insert(0,10)\n",
    "#     wickets.append(0)\n",
    "#     w = np.array(wickets)\n",
    "#     nw = np.array(new_wickets)\n",
    "#     temp_df['wickets_in_over'] = (nw - w)[0:temp_df.shape[0]]\n",
    "    \n",
    "#     print (\"Traget - \", target)\n",
    "#     temp_df = temp_df['end_of_over','runs_after_over','wickets_in_over','lose','win']\n",
    "#     return temp_df, target"
   ]
  },
  {
   "cell_type": "code",
   "execution_count": 114,
   "id": "bdc05391",
   "metadata": {},
   "outputs": [],
   "source": [
    "# temp_df,target = matchProgress(deliveryDF,1,pipe)\n",
    "# temp_df"
   ]
  },
  {
   "cell_type": "code",
   "execution_count": 115,
   "id": "52069b32",
   "metadata": {},
   "outputs": [
    {
     "data": {
      "text/plain": [
       "['Chennai Super Kings',\n",
       " 'Delhi Capitals',\n",
       " 'Royal Challengers Bangalore',\n",
       " 'Mumbai Indians',\n",
       " 'Kolkata Knight Riders',\n",
       " 'Rajasthan Royals',\n",
       " 'Sunrisers Hyderabad',\n",
       " 'Punjab Kings',\n",
       " 'Gujarat Titans',\n",
       " 'Lucknow Super Giants']"
      ]
     },
     "execution_count": 115,
     "metadata": {},
     "output_type": "execute_result"
    }
   ],
   "source": [
    "teams"
   ]
  },
  {
   "cell_type": "code",
   "execution_count": 116,
   "id": "40af135f",
   "metadata": {},
   "outputs": [
    {
     "data": {
      "text/plain": [
       "array(['M Chinnaswamy Stadium', 'Eden Gardens',\n",
       "       'Sardar Patel Stadium, Motera', \"St George's Park\",\n",
       "       'MA Chidambaram Stadium, Chepauk',\n",
       "       'Punjab Cricket Association IS Bindra Stadium',\n",
       "       'Sawai Mansingh Stadium', 'Brabourne Stadium',\n",
       "       'Sheikh Zayed Stadium', 'Dr DY Patil Sports Academy',\n",
       "       'Punjab Cricket Association Stadium, Mohali',\n",
       "       'Wankhede Stadium, Mumbai', 'Wankhede Stadium',\n",
       "       'MA Chidambaram Stadium, Chepauk, Chennai', 'Feroz Shah Kotla',\n",
       "       'Holkar Cricket Stadium', 'Saurashtra Cricket Association Stadium',\n",
       "       'De Beers Diamond Oval',\n",
       "       'Rajiv Gandhi International Stadium, Uppal', 'Kingsmead',\n",
       "       'Himachal Pradesh Cricket Association Stadium',\n",
       "       'Dubai International Cricket Stadium', 'SuperSport Park',\n",
       "       'Zayed Cricket Stadium, Abu Dhabi', 'Subrata Roy Sahara Stadium',\n",
       "       'Newlands', 'Nehru Stadium', 'Buffalo Park',\n",
       "       'Dr. Y.S. Rajasekhara Reddy ACA-VDCA Cricket Stadium',\n",
       "       'Punjab Cricket Association IS Bindra Stadium, Mohali',\n",
       "       'Rajiv Gandhi International Stadium',\n",
       "       'JSCA International Stadium Complex', 'M.Chinnaswamy Stadium',\n",
       "       'Arun Jaitley Stadium', 'Green Park',\n",
       "       'Arun Jaitley Stadium, Delhi',\n",
       "       'Maharashtra Cricket Association Stadium', 'New Wanderers Stadium',\n",
       "       'Narendra Modi Stadium, Ahmedabad',\n",
       "       'Shaheed Veer Narayan Singh International Stadium',\n",
       "       'Barabati Stadium', 'MA Chidambaram Stadium', 'OUTsurance Oval',\n",
       "       'Sharjah Cricket Stadium',\n",
       "       'Vidarbha Cricket Association Stadium, Jamtha',\n",
       "       'Brabourne Stadium, Mumbai'], dtype=object)"
      ]
     },
     "execution_count": 116,
     "metadata": {},
     "output_type": "execute_result"
    }
   ],
   "source": [
    "finalDF['Venue'].unique()"
   ]
  },
  {
   "cell_type": "code",
   "execution_count": 74,
   "id": "c505f2ee",
   "metadata": {},
   "outputs": [
    {
     "data": {
      "text/plain": [
       "array(['Hyderabad', 'Abu Dhabi', 'Chandigarh', 'Mumbai', 'Bangalore',\n",
       "       'Delhi', 'Durban', 'Chennai', 'Dharamsala', 'Kolkata', 'Ahmedabad',\n",
       "       'Jaipur', 'Cuttack', 'Port Elizabeth', 'Cape Town', 'Sharjah',\n",
       "       'Pune', 'East London', 'Visakhapatnam', 'Rajkot', 'Bengaluru',\n",
       "       'Centurion', 'Ranchi', 'Johannesburg', 'Dubai', 'Kimberley',\n",
       "       'Bloemfontein', 'Nagpur', 'Raipur', 'Indore', 'Kanpur'],\n",
       "      dtype=object)"
      ]
     },
     "execution_count": 74,
     "metadata": {},
     "output_type": "execute_result"
    }
   ],
   "source": [
    "finalDF['City'].unique()"
   ]
  },
  {
   "cell_type": "code",
   "execution_count": 80,
   "id": "c69503e0",
   "metadata": {},
   "outputs": [],
   "source": [
    "import pickle\n",
    "pickle.dump(pipe, open('pipe.pkl','wb'))"
   ]
  },
  {
   "cell_type": "code",
   "execution_count": null,
   "id": "c7785ee9",
   "metadata": {},
   "outputs": [],
   "source": []
  }
 ],
 "metadata": {
  "kernelspec": {
   "display_name": "Python 3 (ipykernel)",
   "language": "python",
   "name": "python3"
  },
  "language_info": {
   "codemirror_mode": {
    "name": "ipython",
    "version": 3
   },
   "file_extension": ".py",
   "mimetype": "text/x-python",
   "name": "python",
   "nbconvert_exporter": "python",
   "pygments_lexer": "ipython3",
   "version": "3.9.7"
  }
 },
 "nbformat": 4,
 "nbformat_minor": 5
}
